{
 "cells": [
  {
   "cell_type": "code",
   "execution_count": 115,
   "metadata": {},
   "outputs": [
    {
     "name": "stdout",
     "output_type": "stream",
     "text": [
      "The autoreload extension is already loaded. To reload it, use:\n",
      "  %reload_ext autoreload\n"
     ]
    }
   ],
   "source": [
    "%load_ext autoreload\n",
    "%autoreload 2"
   ]
  },
  {
   "cell_type": "code",
   "execution_count": 116,
   "metadata": {},
   "outputs": [],
   "source": [
    "import numpy as np\n",
    "import jax\n",
    "import jax.numpy as jnp\n",
    "from iLQR import iLQR, Path\n",
    "import csv\n",
    "\n",
    "\n",
    "def load_path(filepath: str):\n",
    "    \"\"\"\n",
    "    Gets the centerline of the track from the trajectory data. We currently only\n",
    "    support 2D track.\n",
    "\n",
    "    Args:\n",
    "        filepath (str): the path to file consisting of the centerline position.\n",
    "\n",
    "    Returns:\n",
    "        np.ndarray: centerline, of the shape (2, N).\n",
    "    \"\"\"\n",
    "    x = []\n",
    "    y = []\n",
    "    with open(filepath) as f:\n",
    "        spamreader = csv.reader(f, delimiter=',')\n",
    "        for i, row in enumerate(spamreader):\n",
    "            if i > 0:\n",
    "                x.append(float(row[0]))\n",
    "                y.append(float(row[1]))\n",
    "\n",
    "    return np.array([x, y])\n",
    "\n",
    "centerline = load_path('outerloop_center_smooth.csv')\n",
    "path = Path(centerline, 0.6, 0.6, loop=True)\n",
    "\n",
    "n = 10"
   ]
  },
  {
   "cell_type": "code",
   "execution_count": 117,
   "metadata": {},
   "outputs": [
    {
     "name": "stdout",
     "output_type": "stream",
     "text": [
      "201 µs ± 13.5 µs per loop (mean ± std. dev. of 7 runs, 1,000 loops each)\n"
     ]
    }
   ],
   "source": [
    "from iLQR.config import Config\n",
    "from iLQR.dynamics import Bicycle5D\n",
    "\n",
    "config = Config()\n",
    "dyn = Bicycle5D(config)\n",
    "\n",
    "state = jnp.array(np.random.rand(5,n))\n",
    "control = jnp.array(np.random.rand(2,n))\n",
    "\n",
    "dyn.get_jacobian(state, control)\n",
    "\n",
    "%timeit dyn.get_jacobian(state, control)[0].block_until_ready()"
   ]
  },
  {
   "cell_type": "code",
   "execution_count": 118,
   "metadata": {},
   "outputs": [
    {
     "name": "stdout",
     "output_type": "stream",
     "text": [
      "dyn.rollout_nominal\n",
      "763 µs ± 30.9 µs per loop (mean ± std. dev. of 7 runs, 1,000 loops each)\n"
     ]
    }
   ],
   "source": [
    "from iLQR.cost import Cost\n",
    "\n",
    "init_state = np.array([1, 5.4, 2, 3.14, 0])\n",
    "controls = jnp.zeros((2, n))\n",
    "\n",
    "# init_state = jnp.asarray(init_state)\n",
    "states, controls = dyn.rollout_nominal(init_state, controls)\n",
    "\n",
    "print(\"dyn.rollout_nominal\")\n",
    "%timeit dyn.rollout_nominal(init_state, controls)[0].block_until_ready()"
   ]
  },
  {
   "cell_type": "code",
   "execution_count": 119,
   "metadata": {},
   "outputs": [
    {
     "name": "stdout",
     "output_type": "stream",
     "text": [
      "path.get_reference use jax (Not good)\n",
      "6.1 ms ± 243 µs per loop (mean ± std. dev. of 7 runs, 100 loops each)\n",
      "path.get_reference use np\n",
      "2.98 ms ± 19.8 µs per loop (mean ± std. dev. of 7 runs, 100 loops each)\n"
     ]
    }
   ],
   "source": [
    "refs = path.get_reference(states[:2, :])\n",
    "s = refs[4,:]\n",
    "\n",
    "print(\"path.get_reference use jax (Not good)\")\n",
    "%timeit path.get_reference(states[:2, :])\n",
    "\n",
    "print(\"path.get_reference use np\")\n",
    "%timeit path.get_reference(np.asarray(states)[:2, :])"
   ]
  },
  {
   "cell_type": "code",
   "execution_count": 120,
   "metadata": {},
   "outputs": [
    {
     "name": "stdout",
     "output_type": "stream",
     "text": [
      "Create an obstacle\n",
      "1.83 ms ± 169 µs per loop (mean ± std. dev. of 7 runs, 100 loops each)\n"
     ]
    }
   ],
   "source": [
    "from iLQR.cost.collision_checker import CollisionChecker, Obstacle\n",
    "collision_checker = CollisionChecker(config)\n",
    "\n",
    "obs1 = np.array([[-1, -1, -0.5, -0.5], [5.2, 5.9, 5.9, 5.2]]).T\n",
    "obs2 = np.array([[1, 1, 1.5, 1.5], [-0.2, 0.5, 0.5, -0.2]]).T\n",
    "temp = [obs1 for _ in range(10)]\n",
    "\n",
    "print(\"Create an obstacle\")\n",
    "%timeit Obstacle(temp)"
   ]
  },
  {
   "cell_type": "code",
   "execution_count": 230,
   "metadata": {},
   "outputs": [
    {
     "name": "stdout",
     "output_type": "stream",
     "text": [
      "!!! BottleNeck\n",
      "Avoid conversion between np array and jax array!\n",
      "Avoid slice of jax array with [] in non-jited code\n",
      "collision_checker._check_collision\n",
      "49.5 µs ± 4 µs per loop (mean ± std. dev. of 7 runs, 10,000 loops each)\n",
      "collision_checker.check_collisions\n",
      "500 µs ± 6.06 µs per loop (mean ± std. dev. of 7 runs, 1,000 loops each)\n"
     ]
    }
   ],
   "source": [
    "\n",
    "\n",
    "obstacle_list = [Obstacle(temp)]\n",
    "# polygon = \n",
    "print(\"!!! BottleNeck\")\n",
    "print(\"Avoid conversion between np array and jax array!\")\n",
    "print(\"Avoid slice of jax array with [] in non-jited code\")\n",
    "\n",
    "print(\"collision_checker._check_collision\") \n",
    "states_np = np.asarray(states)\n",
    "%timeit collision_checker._check_collision(states_np[:,0], obstacle_list[0].at(0))\n",
    "print(\"collision_checker.check_collisions\")\n",
    "# states = jnp.asarray(states)\n",
    "%timeit collision_checker.check_collisions(states_np, obstacle_list)\n",
    "\n",
    "obs_refs = collision_checker.check_collisions(states_np, obstacle_list)\n"
   ]
  },
  {
   "cell_type": "code",
   "execution_count": 237,
   "metadata": {},
   "outputs": [
    {
     "name": "stdout",
     "output_type": "stream",
     "text": [
      "1.5 ms ± 271 µs per loop (mean ± std. dev. of 7 runs, 1 loop each)\n"
     ]
    }
   ],
   "source": [
    "cost = Cost(config)\n",
    "print(\"!!! BottleNeck with obs_refs\")\n",
    "%timeit cost.get_traj_cost(states, controls, refs, obs_refs).block_until_ready()"
   ]
  }
 ],
 "metadata": {
  "kernelspec": {
   "display_name": "ros_base",
   "language": "python",
   "name": "python3"
  },
  "language_info": {
   "codemirror_mode": {
    "name": "ipython",
    "version": 3
   },
   "file_extension": ".py",
   "mimetype": "text/x-python",
   "name": "python",
   "nbconvert_exporter": "python",
   "pygments_lexer": "ipython3",
   "version": "3.9.15"
  },
  "orig_nbformat": 4,
  "vscode": {
   "interpreter": {
    "hash": "a340285dc42a147478ebac1149dd485c5a8a80a83632d3b31d7d1eba95707c5a"
   }
  }
 },
 "nbformat": 4,
 "nbformat_minor": 2
}
