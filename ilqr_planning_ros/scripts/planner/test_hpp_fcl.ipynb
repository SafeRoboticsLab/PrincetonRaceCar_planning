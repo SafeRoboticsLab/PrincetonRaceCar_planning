{
 "cells": [
  {
   "cell_type": "code",
   "execution_count": 1,
   "metadata": {},
   "outputs": [],
   "source": [
    "%load_ext autoreload\n",
    "%autoreload 2"
   ]
  },
  {
   "cell_type": "code",
   "execution_count": 2,
   "metadata": {},
   "outputs": [],
   "source": [
    "import hppfcl\n",
    "import numpy as np\n",
    "import time\n",
    "\n",
    "import jax\n",
    "from jax import jacfwd, jacrev, vmap, jit\n",
    "from jax import numpy as jnp\n",
    "jax.config.update('jax_platform_name', 'cpu')\n"
   ]
  },
  {
   "cell_type": "code",
   "execution_count": 11,
   "metadata": {},
   "outputs": [
    {
     "data": {
      "text/plain": [
       "Array([[1., 1., 1.],\n",
       "       [1., 1., 1.]], dtype=float32)"
      ]
     },
     "execution_count": 11,
     "metadata": {},
     "output_type": "execute_result"
    }
   ],
   "source": [
    "a = jnp.zeros((2,3))\n",
    "a+1"
   ]
  },
  {
   "cell_type": "code",
   "execution_count": 5,
   "metadata": {},
   "outputs": [
    {
     "name": "stdout",
     "output_type": "stream",
     "text": [
      "65 ns ± 0.798 ns per loop (mean ± std. dev. of 7 runs, 10,000,000 loops each)\n",
      "3.1 µs ± 28.3 ns per loop (mean ± std. dev. of 7 runs, 100,000 loops each)\n"
     ]
    }
   ],
   "source": [
    "def func(a, b, c):\n",
    "    return a + b*c\n",
    "\n",
    "%timeit func(1, 2, 3)\n",
    "jfunc = jax.jit(func)\n",
    "jfunc(1, 2, 3)\n",
    "%timeit jfunc(3, 4, 5)"
   ]
  },
  {
   "cell_type": "code",
   "execution_count": 10,
   "metadata": {},
   "outputs": [
    {
     "name": "stdout",
     "output_type": "stream",
     "text": [
      "[[ 2.43756467 -0.0879469 ]\n",
      " [ 0.58766458  0.55374537]]\n",
      "[ 0.23796872 -0.32896611]\n"
     ]
    },
    {
     "data": {
      "text/plain": [
       "array([ 0.6089957 , -0.04231767])"
      ]
     },
     "execution_count": 10,
     "metadata": {},
     "output_type": "execute_result"
    }
   ],
   "source": [
    "a = np.random.randn(2,2)\n",
    "b = np.random.randn(2)\n",
    "print(a)\n",
    "print(b)\n",
    "np.matmul(a,b)"
   ]
  },
  {
   "cell_type": "code",
   "execution_count": 11,
   "metadata": {},
   "outputs": [
    {
     "data": {
      "text/plain": [
       "0.46991440842602167"
      ]
     },
     "execution_count": 11,
     "metadata": {},
     "output_type": "execute_result"
    }
   ],
   "source": [
    "-0.64130257*-0.78487848+-0.48791498*0.0685164"
   ]
  },
  {
   "cell_type": "code",
   "execution_count": 3,
   "metadata": {},
   "outputs": [
    {
     "data": {
      "text/plain": [
       "0.17599999999999996"
      ]
     },
     "execution_count": 3,
     "metadata": {},
     "output_type": "execute_result"
    }
   ],
   "source": [
    "from iLQR.cost.collision_checker.collision_checker import CollisionChecker\n",
    "from iLQR.config import Config\n",
    "config = Config()\n",
    "c = CollisionChecker(config)\n",
    "c.ego_object.computeVolume()"
   ]
  },
  {
   "cell_type": "code",
   "execution_count": 36,
   "metadata": {},
   "outputs": [],
   "source": [
    "def test_jnp(state):\n",
    "    psi = state[3]\n",
    "    pose = jnp.array([[jnp.cos(psi), -jnp.sin(psi), 0, state[0]],\n",
    "                        [jnp.sin(psi), jnp.cos(psi), 0, state[1]],\n",
    "                        [0,0,1,0],\n",
    "                        [0,0,0,1]])\n",
    "def test_np(state):\n",
    "    psi = state[3]\n",
    "    pose = np.array([[np.cos(psi), -np.sin(psi), 0, state[0]],\n",
    "                        [np.sin(psi), np.cos(psi), 0, state[1]],\n",
    "                        [0,0,1,0],\n",
    "                        [0,0,0,1]])\n",
    "\n",
    "def test_np2(state):\n",
    "    psi = state[3]\n",
    "    pose = np.eye(4)\n",
    "    pose[:2,:2] = np.array([[np.cos(psi), -np.sin(psi)],\n",
    "                        [np.sin(psi), np.cos(psi)]])\n",
    "    pose[:2,3] = state[:2]    \n",
    "    # pose = np.array([[np.cos(psi), -np.sin(psi), 0, state[0]],\n",
    "    #                     [np.sin(psi), np.cos(psi), 0, state[1]],\n",
    "    #                     [0,0,1,0],\n",
    "    #                     [0,0,0,1]])\n",
    "    print(np.linalg.inv(pose))"
   ]
  },
  {
   "cell_type": "code",
   "execution_count": 43,
   "metadata": {},
   "outputs": [
    {
     "name": "stdout",
     "output_type": "stream",
     "text": [
      "[[ -0.39998531  -0.91652155  -0.         208.38415834]\n",
      " [  0.91652155  -0.39998531   0.          80.03150976]\n",
      " [  0.           0.           1.           0.        ]\n",
      " [  0.           0.           0.           1.        ]]\n",
      "[[-0.39998531 -0.91652155  0.        ]\n",
      " [ 0.91652155 -0.39998531  0.        ]\n",
      " [ 0.          0.          1.        ]]\n",
      "[208.38415834  80.03150976   0.        ]\n"
     ]
    }
   ],
   "source": [
    "state = np.array([10,223,332141,42,5])\n",
    "# test_jit = jax.jit(test_jnp)\n",
    "# test_jit(a)\n",
    "# %timeit test_jnp(a)\n",
    "# %timeit test_jit(a)\n",
    "test_np2(state)\n",
    "\n",
    "\n",
    "psi = state[3]\n",
    "cp = np.cos(psi)\n",
    "sp = np.sin(psi)\n",
    "\n",
    "\n",
    "ego_rotm_inv = np.array([[cp, sp, 0],\n",
    "                                [-sp, cp, 0],\n",
    "                                [0,0,1]])\n",
    "print(ego_rotm_inv)\n",
    "\n",
    "ego_trans_inv = np.array([-(cp*state[0] + sp*state[1]),\n",
    "                                (sp*state[0] - cp*state[1]), 0])\n",
    "print(ego_trans_inv)"
   ]
  },
  {
   "cell_type": "code",
   "execution_count": 14,
   "metadata": {},
   "outputs": [
    {
     "data": {
      "text/plain": [
       "array([[-4.87895609e-02,  1.28958298e-01,  1.00000000e+00],\n",
       "       [-7.29240983e-01, -9.33807754e-01,  1.00000000e+00],\n",
       "       [ 2.12250963e+00,  3.95486446e-01,  1.00000000e+00],\n",
       "       [ 6.35460608e-02,  6.85852281e-01,  1.00000000e+00],\n",
       "       [-3.14227080e-01,  1.08101259e+00,  1.00000000e+00],\n",
       "       [ 3.92041032e-02,  1.86943719e-01,  1.00000000e+00],\n",
       "       [ 1.44409341e+00, -3.17301589e-01,  1.00000000e+00],\n",
       "       [-6.77330308e-01, -6.32213574e-01,  1.00000000e+00],\n",
       "       [ 5.34211859e-01, -1.76807833e-01,  1.00000000e+00],\n",
       "       [-1.91351006e+00, -1.05146760e-01,  1.00000000e+00],\n",
       "       [ 1.62978843e+00, -3.62259751e-02,  1.00000000e+00],\n",
       "       [ 2.31774189e+00, -3.84368253e-01,  1.00000000e+00],\n",
       "       [-1.67053643e-01,  5.92782701e-01,  1.00000000e+00],\n",
       "       [ 6.59105113e-01, -5.14296673e-04,  1.00000000e+00],\n",
       "       [ 5.34064276e-01, -1.31819726e-01,  1.00000000e+00],\n",
       "       [ 1.03911710e+00,  2.13842455e-01,  1.00000000e+00],\n",
       "       [ 8.93899476e-01,  3.96651945e-01,  1.00000000e+00],\n",
       "       [-8.80673869e-01,  6.19359073e-01,  1.00000000e+00],\n",
       "       [ 1.93246064e-01, -2.26521836e+00,  1.00000000e+00],\n",
       "       [-7.74677718e-01, -3.01709016e-01,  1.00000000e+00]])"
      ]
     },
     "execution_count": 14,
     "metadata": {},
     "output_type": "execute_result"
    }
   ],
   "source": [
    "psi = 0.2\n",
    "ego_pose = np.eye(3)\n",
    "ego_pose[:2, :2] = np.array([[np.cos(psi), -np.sin(psi)],\n",
    "                    [np.sin(psi), np.cos(psi)]])\n",
    "ego_pose[:2, -1] = np.array([0.1, 0.2])\n",
    "\n",
    "a = np.random.randn(20,2)\n",
    "a1 = np.append(a, np.ones((a.shape[0], 1)), axis=1)\n",
    "np.matmul(ego_pose, a1.T).T\n"
   ]
  },
  {
   "cell_type": "code",
   "execution_count": 3,
   "metadata": {},
   "outputs": [
    {
     "name": "stdout",
     "output_type": "stream",
     "text": [
      "1.4142135623730951\n"
     ]
    }
   ],
   "source": [
    "verts = hppfcl.StdVec_Vec3f()\n",
    "faces = hppfcl.StdVec_Triangle()\n",
    "verts.extend(\n",
    "    [\n",
    "        np.array([0.5, 0.5, 0]),\n",
    "        np.array([0.5, -0.5, 0]),\n",
    "        np.array([-0.5, 0.5, 0]),\n",
    "        np.array([-0.5, -0.5, 0]),\n",
    "        np.array([0.5, 0.5, 0.5]),\n",
    "        np.array([0.5, -0.5, 0.5]),\n",
    "        np.array([-0.5, 0.5, 0.5]),\n",
    "        np.array([-0.5, -0.5, 0.5]) ,\n",
    "        # np.array([0, 0, -0.5]),\n",
    "        # np.array([0, 0, 0.5]),\n",
    "    ]\n",
    ")\n",
    "c = hppfcl.Convex.convexHull(verts, True, None)\n",
    "c.points()\n",
    "b = hppfcl.Box(1, 1, 1)\n",
    "\n",
    "obj1 = hppfcl.CollisionObject(c, np.eye(3), np.array([0,0,0]))\n",
    "obj2 = hppfcl.CollisionObject(b, np.eye(3), np.array([-2.0,2.0,0]))\n",
    "\n",
    "request = hppfcl.DistanceRequest()\n",
    "result = hppfcl.DistanceResult()\n",
    "hppfcl.distance(obj2, obj1, request, result)\n",
    "print(result.min_distance)\n",
    "\n",
    "\n"
   ]
  },
  {
   "cell_type": "code",
   "execution_count": 4,
   "metadata": {},
   "outputs": [
    {
     "data": {
      "text/plain": [
       "array([-1.5       ,  1.5       ,  0.16666667])"
      ]
     },
     "execution_count": 4,
     "metadata": {},
     "output_type": "execute_result"
    }
   ],
   "source": [
    "result.getNearestPoint1()"
   ]
  },
  {
   "cell_type": "code",
   "execution_count": null,
   "metadata": {},
   "outputs": [
    {
     "name": "stdout",
     "output_type": "stream",
     "text": [
      "[-0.5 -0.5 -0.5]\n",
      "[-0.5 -0.5 -0.5]\n"
     ]
    },
    {
     "data": {
      "text/plain": [
       "-1.7976931348623157e+308"
      ]
     },
     "execution_count": 286,
     "metadata": {},
     "output_type": "execute_result"
    }
   ],
   "source": [
    "def dis_func(x, y):\n",
    "    # collision object\n",
    "    obj1 = hppfcl.CollisionObject(hppfcl.Box(1, 1, 1), np.eye(3), np.array([0,0,0]))\n",
    "    obj2 = hppfcl.CollisionObject(hppfcl.Box(1, 1, 1), np.eye(3), np.array([x,y,0]))\n",
    "\n",
    "    request = hppfcl.DistanceRequest()\n",
    "    result = hppfcl.DistanceResult()\n",
    "    hppfcl.distance(obj1, obj2, request, result)\n",
    "    print(result.getNearestPoint1())\n",
    "    print(result.getNearestPoint2())\n",
    "    return result.min_distance\n",
    "\n",
    "dis_func(-1,-1)"
   ]
  },
  {
   "cell_type": "code",
   "execution_count": null,
   "metadata": {},
   "outputs": [],
   "source": [
    "def test(a, b):\n",
    "    return a**3+b**3+3*a*b"
   ]
  },
  {
   "cell_type": "code",
   "execution_count": null,
   "metadata": {},
   "outputs": [
    {
     "data": {
      "text/plain": [
       "array([0.016788  , 0.05044002])"
      ]
     },
     "execution_count": 203,
     "metadata": {},
     "output_type": "execute_result"
    }
   ],
   "source": [
    "import numpy as np\n",
    "\n",
    "N = 1000\n",
    "D = 2   \n",
    "e = 1e-5\n",
    "z = np.random.randn(N, D)\n",
    "\n",
    "\n",
    "np.mean(test(z[:,0]*e+1, z[:,1]*e+1)[...,np.newaxis]*z, axis=0)\n",
    "\n",
    "\n",
    "\n"
   ]
  },
  {
   "cell_type": "code",
   "execution_count": null,
   "metadata": {},
   "outputs": [
    {
     "data": {
      "text/plain": [
       "(Array(6., dtype=float32, weak_type=True),\n",
       " Array(6., dtype=float32, weak_type=True))"
      ]
     },
     "execution_count": 137,
     "metadata": {},
     "output_type": "execute_result"
    }
   ],
   "source": [
    "jax.grad(test, argnums=(0,1))(1.0,1.0)"
   ]
  }
 ],
 "metadata": {
  "kernelspec": {
   "display_name": "jax",
   "language": "python",
   "name": "python3"
  },
  "language_info": {
   "codemirror_mode": {
    "name": "ipython",
    "version": 3
   },
   "file_extension": ".py",
   "mimetype": "text/x-python",
   "name": "python",
   "nbconvert_exporter": "python",
   "pygments_lexer": "ipython3",
   "version": "3.9.15"
  },
  "orig_nbformat": 4,
  "vscode": {
   "interpreter": {
    "hash": "a6a740e8787365aacd347d79eeb194f3bc2ca4f44137facfd999f6c1b481589d"
   }
  }
 },
 "nbformat": 4,
 "nbformat_minor": 2
}
