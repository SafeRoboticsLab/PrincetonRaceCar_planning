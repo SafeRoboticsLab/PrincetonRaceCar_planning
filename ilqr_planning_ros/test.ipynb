{
 "cells": [
  {
   "cell_type": "code",
   "execution_count": 1,
   "metadata": {},
   "outputs": [],
   "source": [
    "%load_ext autoreload\n",
    "%autoreload 2\n",
    "from jaxlib.xla_extension import DeviceArray\n",
    "import jax\n",
    "from jax import numpy as jnp\n",
    "import numpy as np\n",
    "from scripts.planner.iLQR.cost.base_cost import *"
   ]
  },
  {
   "cell_type": "code",
   "execution_count": null,
   "metadata": {},
   "outputs": [],
   "source": [
    "a = jnp.array([1.0, 2.0, 3.0])\n",
    "b = jnp.array([4.0, 5.0, 6.0])\n",
    "\n",
    "def cost_func(x, weight):\n",
    "    return jnp.sum(quadratic_cost(x, weight))\n",
    "J = jax.jit(jax.jacfwd(cost_func, argnums=0))\n",
    "J(a,b)\n",
    "\n",
    "%timeit J(a,b)\n",
    "a = jnp.array([4.0, 5.0, 6.0])\n",
    "b = jnp.array([1.0, 2.0, 3.0])\n",
    "%timeit J(a,b)\n",
    "print(J._cache_size())\n",
    "\n"
   ]
  },
  {
   "cell_type": "code",
   "execution_count": null,
   "metadata": {},
   "outputs": [],
   "source": [
    "1/(1/jnp.tan(0.6/180*jnp.pi))"
   ]
  },
  {
   "cell_type": "code",
   "execution_count": 3,
   "metadata": {},
   "outputs": [
    {
     "data": {
      "text/plain": [
       "DeviceArray([5. , 5. , 5.5], dtype=float32)"
      ]
     },
     "execution_count": 3,
     "metadata": {},
     "output_type": "execute_result"
    }
   ],
   "source": [
    "a = jnp.array([4.0, 5.0, 6.0])\n",
    "jnp.clip(a, jnp.array([5,-jnp.inf,5]), jnp.array([5.5,jnp.inf,5.5]))"
   ]
  }
 ],
 "metadata": {
  "kernelspec": {
   "display_name": "ros_base",
   "language": "python",
   "name": "python3"
  },
  "language_info": {
   "codemirror_mode": {
    "name": "ipython",
    "version": 3
   },
   "file_extension": ".py",
   "mimetype": "text/x-python",
   "name": "python",
   "nbconvert_exporter": "python",
   "pygments_lexer": "ipython3",
   "version": "3.9.15 | packaged by conda-forge | (main, Nov 22 2022, 08:45:29) \n[GCC 10.4.0]"
  },
  "orig_nbformat": 4,
  "vscode": {
   "interpreter": {
    "hash": "7568f0ba5f4aa6b4771c1bfaa80032ca4a9c3cb4e7689d750c939fd1994746c1"
   }
  }
 },
 "nbformat": 4,
 "nbformat_minor": 2
}
