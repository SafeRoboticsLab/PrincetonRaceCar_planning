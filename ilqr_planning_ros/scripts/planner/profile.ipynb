{
 "cells": [
  {
   "cell_type": "code",
   "execution_count": 1,
   "metadata": {},
   "outputs": [],
   "source": [
    "%load_ext autoreload\n",
    "%autoreload 2"
   ]
  },
  {
   "cell_type": "code",
   "execution_count": 40,
   "metadata": {},
   "outputs": [],
   "source": [
    "import numpy as np\n",
    "import jax\n",
    "import jax.numpy as jnp\n",
    "jax.config.update('jax_platform_name', 'cpu')\n",
    "from iLQR import iLQR, Path\n",
    "import csv\n",
    "import random\n",
    "\n",
    "\n",
    "def load_path(filepath: str):\n",
    "    \"\"\"\n",
    "    Gets the centerline of the track from the trajectory data. We currently only\n",
    "    support 2D track.\n",
    "\n",
    "    Args:\n",
    "        filepath (str): the path to file consisting of the centerline position.\n",
    "\n",
    "    Returns:\n",
    "        np.ndarray: centerline, of the shape (2, N).\n",
    "    \"\"\"\n",
    "    x = []\n",
    "    y = []\n",
    "    with open(filepath) as f:\n",
    "        spamreader = csv.reader(f, delimiter=',')\n",
    "        for i, row in enumerate(spamreader):\n",
    "            if i > 0:\n",
    "                x.append(float(row[0]))\n",
    "                y.append(float(row[1]))\n",
    "\n",
    "    return np.array([x, y])\n",
    "\n",
    "centerline = load_path('outerloop_center_smooth.csv')\n",
    "path = Path(centerline, 0.6, 0.6, loop=True)\n",
    "\n",
    "n = 10"
   ]
  },
  {
   "cell_type": "code",
   "execution_count": 41,
   "metadata": {},
   "outputs": [
    {
     "name": "stdout",
     "output_type": "stream",
     "text": [
      "84.5 µs ± 1.71 µs per loop (mean ± std. dev. of 7 runs, 10,000 loops each)\n"
     ]
    }
   ],
   "source": [
    "from iLQR.config import Config\n",
    "from iLQR.dynamics import Bicycle5D\n",
    "\n",
    "config = Config()\n",
    "dyn = Bicycle5D(config)\n",
    "\n",
    "state = jnp.asarray(np.random.rand(5,n))\n",
    "control = jnp.asarray(np.random.rand(2,n))\n",
    "\n",
    "dyn.get_jacobian(state*random.random(), control*random.random())\n",
    "\n",
    "%timeit dyn.get_jacobian(state*random.random(), control*random.random())[0].block_until_ready()"
   ]
  },
  {
   "cell_type": "code",
   "execution_count": 77,
   "metadata": {},
   "outputs": [
    {
     "name": "stdout",
     "output_type": "stream",
     "text": [
      "dyn.rollout_nominal\n",
      "53.3 µs ± 252 ns per loop (mean ± std. dev. of 7 runs, 10,000 loops each)\n"
     ]
    }
   ],
   "source": [
    "from iLQR.cost import Cost\n",
    "\n",
    "init_state = np.array([1, 5.4, 2, 3.14, 0])\n",
    "controls = jnp.zeros((2, n))\n",
    "\n",
    "# init_state = jnp.asarray(init_state)\n",
    "states, controls = dyn.rollout_nominal(init_state, controls)\n",
    "\n",
    "print(\"dyn.rollout_nominal\")\n",
    "%timeit dyn.rollout_nominal(init_state*random.random(), controls*random.random())[0].block_until_ready()"
   ]
  },
  {
   "cell_type": "code",
   "execution_count": 43,
   "metadata": {},
   "outputs": [
    {
     "name": "stdout",
     "output_type": "stream",
     "text": [
      "path.get_reference use jax (Not good)\n",
      "6.35 ms ± 117 µs per loop (mean ± std. dev. of 7 runs, 100 loops each)\n",
      "path.get_reference use np\n",
      "3.05 ms ± 79 µs per loop (mean ± std. dev. of 7 runs, 100 loops each)\n"
     ]
    }
   ],
   "source": [
    "refs = path.get_reference(states[:2, :])\n",
    "s = refs[4,:]\n",
    "\n",
    "print(\"path.get_reference use jax (Not good)\")\n",
    "%timeit path.get_reference(states[:2, :])\n",
    "\n",
    "print(\"path.get_reference use np\")\n",
    "states_np = np.asarray(states)\n",
    "%timeit path.get_reference(states_np[:2, :]*random.random(), 1e-3)"
   ]
  },
  {
   "cell_type": "code",
   "execution_count": 49,
   "metadata": {},
   "outputs": [
    {
     "name": "stdout",
     "output_type": "stream",
     "text": [
      "Create an obstacle\n",
      "2.22 ms ± 122 µs per loop (mean ± std. dev. of 7 runs, 100 loops each)\n"
     ]
    }
   ],
   "source": [
    "from iLQR.cost.collision_checker import CollisionChecker, Obstacle\n",
    "collision_checker = CollisionChecker(config)\n",
    "\n",
    "obs1 = np.array([[-1, -1, -0.5, -0.5], [5.2, 5.9, 5.9, 5.2]]).T\n",
    "obs2 = np.array([[1, 1, 1.5, 1.5], [-0.2, 0.5, 0.5, -0.2]]).T\n",
    "temp = [obs1 for _ in range(10)]\n",
    "\n",
    "print(\"Create an obstacle\")\n",
    "%timeit Obstacle(temp)"
   ]
  },
  {
   "cell_type": "code",
   "execution_count": 86,
   "metadata": {},
   "outputs": [
    {
     "name": "stdout",
     "output_type": "stream",
     "text": [
      "!!! BottleNeck\n",
      "Avoid conversion between np array and jax array!\n",
      "Avoid slice of jax array with [] in non-jited code\n",
      "collision_checker._check_collision\n",
      "82.3 µs ± 494 ns per loop (mean ± std. dev. of 7 runs, 10,000 loops each)\n",
      "collision_checker.check_collisions\n",
      "778 µs ± 10.4 µs per loop (mean ± std. dev. of 7 runs, 1,000 loops each)\n"
     ]
    }
   ],
   "source": [
    "\n",
    "\n",
    "obstacle_list = [Obstacle(temp)]\n",
    "# polygon = \n",
    "print(\"!!! BottleNeck\")\n",
    "print(\"Avoid conversion between np array and jax array!\")\n",
    "print(\"Avoid slice of jax array with [] in non-jited code\")\n",
    "\n",
    "print(\"collision_checker._check_collision\") \n",
    "states_np = np.asarray(states)\n",
    "%timeit collision_checker._check_collision(states_np[:,0]*random.random(), obstacle_list[0].at(0))\n",
    "print(\"collision_checker.check_collisions\")\n",
    "# states = jnp.asarray(states)\n",
    "%timeit collision_checker.check_collisions(states_np*random.random(), obstacle_list)\n",
    "\n",
    "obs_refs = collision_checker.check_collisions(states_np, obstacle_list)\n"
   ]
  },
  {
   "cell_type": "code",
   "execution_count": 87,
   "metadata": {},
   "outputs": [
    {
     "name": "stdout",
     "output_type": "stream",
     "text": [
      "!!! BottleNeck\n",
      "make sure obs_refs is np array\n",
      " cost.get_traj_cost\n",
      "151 µs ± 2.08 µs per loop (mean ± std. dev. of 7 runs, 10,000 loops each)\n"
     ]
    }
   ],
   "source": [
    "cost = Cost(config)\n",
    "\n",
    "cost.get_traj_cost(states, controls, refs, obs_refs)\n",
    "print(\"!!! BottleNeck\")\n",
    "print(\"make sure obs_refs is np array\")\n",
    "cost.get_traj_cost(states, controls, refs, jnp.asarray(obs_refs))\n",
    "print(\" cost.get_traj_cost\")\n",
    "%timeit cost.get_traj_cost(states*random.random(), controls*random.random(), refs*random.random(), obs_refs*random.random()).block_until_ready()\n",
    "\n"
   ]
  },
  {
   "cell_type": "code",
   "execution_count": 90,
   "metadata": {},
   "outputs": [
    {
     "name": "stdout",
     "output_type": "stream",
     "text": [
      "cost.get_derivatives\n",
      "463 µs ± 6.58 µs per loop (mean ± std. dev. of 7 runs, 1,000 loops each)\n"
     ]
    }
   ],
   "source": [
    "print(\"cost.get_derivatives\")\n",
    "%timeit cost.get_derivatives(states*random.random(), controls*random.random(), refs*random.random(), obs_refs*random.random())[-1].block_until_ready()\n"
   ]
  }
 ],
 "metadata": {
  "kernelspec": {
   "display_name": "ros",
   "language": "python",
   "name": "python3"
  },
  "language_info": {
   "codemirror_mode": {
    "name": "ipython",
    "version": 3
   },
   "file_extension": ".py",
   "mimetype": "text/x-python",
   "name": "python",
   "nbconvert_exporter": "python",
   "pygments_lexer": "ipython3",
   "version": "3.9.15"
  },
  "orig_nbformat": 4,
  "vscode": {
   "interpreter": {
    "hash": "46f87dbc294bd922d9423706cdfd730749314bc34b8043a86353c35fa677fd84"
   }
  }
 },
 "nbformat": 4,
 "nbformat_minor": 2
}
