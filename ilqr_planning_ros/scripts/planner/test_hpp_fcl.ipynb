{
 "cells": [
  {
   "cell_type": "code",
   "execution_count": 1,
   "metadata": {},
   "outputs": [],
   "source": [
    "%load_ext autoreload\n",
    "%autoreload 2"
   ]
  },
  {
   "cell_type": "code",
   "execution_count": 2,
   "metadata": {},
   "outputs": [],
   "source": [
    "import hppfcl\n",
    "import numpy as np\n",
    "import time\n",
    "\n",
    "import jax\n",
    "from jax import jacfwd, jacrev, vmap, jit\n",
    "from jax import numpy as jnp\n",
    "jax.config.update('jax_platform_name', 'cpu')\n"
   ]
  },
  {
   "cell_type": "code",
   "execution_count": 24,
   "metadata": {},
   "outputs": [
    {
     "name": "stdout",
     "output_type": "stream",
     "text": [
      "4.8 µs ± 102 ns per loop (mean ± std. dev. of 7 runs, 100,000 loops each)\n",
      "Positive definite\n"
     ]
    }
   ],
   "source": [
    "A = np.array([[1,0],[0,1.0]])\n",
    "\n",
    "%timeit jnp.linalg.eigvals(A).block_until_ready()\n",
    "if(jnp.all(jax.numpy.linalg.eigh(A)[0] > 0)):\n",
    "    print(\"Positive definite\")"
   ]
  },
  {
   "cell_type": "code",
   "execution_count": 32,
   "metadata": {},
   "outputs": [
    {
     "name": "stdout",
     "output_type": "stream",
     "text": [
      "\n"
     ]
    },
    {
     "data": {
      "text/plain": [
       "4"
      ]
     },
     "execution_count": 32,
     "metadata": {},
     "output_type": "execute_result"
    }
   ],
   "source": [
    "def test_A(x):\n",
    "    def in_b(x):\n",
    "        return x+1\n",
    "    \n",
    "    def in_c(x):\n",
    "        y = in_b(x)+1\n",
    "        print()\n",
    "        def in_in():\n",
    "            return in_b(y)\n",
    "        \n",
    "        return in_in()\n",
    "    \n",
    "    return in_c(x)\n",
    "\n",
    "test_A(1)"
   ]
  },
  {
   "cell_type": "code",
   "execution_count": 3,
   "metadata": {},
   "outputs": [
    {
     "name": "stdout",
     "output_type": "stream",
     "text": [
      "1.4142135623730951\n"
     ]
    }
   ],
   "source": [
    "verts = hppfcl.StdVec_Vec3f()\n",
    "faces = hppfcl.StdVec_Triangle()\n",
    "verts.extend(\n",
    "    [\n",
    "        np.array([0.5, 0.5, 0]),\n",
    "        np.array([0.5, -0.5, 0]),\n",
    "        np.array([-0.5, 0.5, 0]),\n",
    "        np.array([-0.5, -0.5, 0]),\n",
    "        np.array([0.5, 0.5, 0.5]),\n",
    "        np.array([0.5, -0.5, 0.5]),\n",
    "        np.array([-0.5, 0.5, 0.5]),\n",
    "        np.array([-0.5, -0.5, 0.5]) ,\n",
    "        # np.array([0, 0, -0.5]),\n",
    "        # np.array([0, 0, 0.5]),\n",
    "    ]\n",
    ")\n",
    "c = hppfcl.Convex.convexHull(verts, True, None)\n",
    "c.points()\n",
    "b = hppfcl.Box(1, 1, 1)\n",
    "\n",
    "obj1 = hppfcl.CollisionObject(c, np.eye(3), np.array([0,0,0]))\n",
    "obj2 = hppfcl.CollisionObject(b, np.eye(3), np.array([-2.0,2.0,0]))\n",
    "\n",
    "request = hppfcl.DistanceRequest()\n",
    "result = hppfcl.DistanceResult()\n",
    "hppfcl.distance(obj2, obj1, request, result)\n",
    "print(result.min_distance)\n",
    "\n",
    "\n"
   ]
  },
  {
   "cell_type": "code",
   "execution_count": 93,
   "metadata": {},
   "outputs": [
    {
     "name": "stdout",
     "output_type": "stream",
     "text": [
      "[-1. -1.  1.]\n",
      "[-1. -1.  1.]\n",
      "0.0\n"
     ]
    }
   ],
   "source": [
    "def dis_func(x, y):\n",
    "    # collision object\n",
    "    obj1 = hppfcl.CollisionObject(hppfcl.Box(2, 2, 2), np.eye(3), np.array([0,0,0]))\n",
    "    obj2 = hppfcl.CollisionObject(hppfcl.Box(1, 1, 1), np.eye(3), np.array([x,y,1.5]))\n",
    "\n",
    "    request = hppfcl.DistanceRequest(True, 0.1, 0.1)\n",
    "    result = hppfcl.DistanceResult()\n",
    "    hppfcl.distance(obj1, obj2, request, result)\n",
    "    print(result.getNearestPoint1())\n",
    "    print(result.getNearestPoint2())\n",
    "    return result.min_distance\n",
    "\n",
    "def collid_func(x, y):\n",
    "    # collision object\n",
    "    obj1 = hppfcl.CollisionObject(hppfcl.Box(1, 1, 1), np.eye(3), np.array([0,0,0]))\n",
    "    obj2 = hppfcl.CollisionObject(hppfcl.Box(1, 1, 1), np.eye(3), np.array([x,y,0]))\n",
    "\n",
    "    request = hppfcl.CollisionRequest()\n",
    "    result = hppfcl.CollisionResult()\n",
    "    hppfcl.collide(obj1, obj2, request, result)\n",
    "    return result.distance_lower_bound\n",
    "\n",
    "print(dis_func(-1.5,-1.5))\n"
   ]
  },
  {
   "cell_type": "code",
   "execution_count": null,
   "metadata": {},
   "outputs": [],
   "source": [
    "def test(a, b):\n",
    "    return a**3+b**3+3*a*b"
   ]
  },
  {
   "cell_type": "code",
   "execution_count": null,
   "metadata": {},
   "outputs": [
    {
     "data": {
      "text/plain": [
       "array([0.016788  , 0.05044002])"
      ]
     },
     "execution_count": 203,
     "metadata": {},
     "output_type": "execute_result"
    }
   ],
   "source": [
    "import numpy as np\n",
    "\n",
    "N = 1000\n",
    "D = 2   \n",
    "e = 1e-5\n",
    "z = np.random.randn(N, D)\n",
    "\n",
    "\n",
    "np.mean(test(z[:,0]*e+1, z[:,1]*e+1)[...,np.newaxis]*z, axis=0)\n",
    "\n",
    "\n",
    "\n"
   ]
  },
  {
   "cell_type": "code",
   "execution_count": null,
   "metadata": {},
   "outputs": [
    {
     "data": {
      "text/plain": [
       "(Array(6., dtype=float32, weak_type=True),\n",
       " Array(6., dtype=float32, weak_type=True))"
      ]
     },
     "execution_count": 137,
     "metadata": {},
     "output_type": "execute_result"
    }
   ],
   "source": [
    "jax.grad(test, argnums=(0,1))(1.0,1.0)"
   ]
  }
 ],
 "metadata": {
  "kernelspec": {
   "display_name": "jax",
   "language": "python",
   "name": "python3"
  },
  "language_info": {
   "codemirror_mode": {
    "name": "ipython",
    "version": 3
   },
   "file_extension": ".py",
   "mimetype": "text/x-python",
   "name": "python",
   "nbconvert_exporter": "python",
   "pygments_lexer": "ipython3",
   "version": "3.9.15"
  },
  "orig_nbformat": 4,
  "vscode": {
   "interpreter": {
    "hash": "a6a740e8787365aacd347d79eeb194f3bc2ca4f44137facfd999f6c1b481589d"
   }
  }
 },
 "nbformat": 4,
 "nbformat_minor": 2
}
