{
 "cells": [
  {
   "cell_type": "code",
   "execution_count": 1,
   "metadata": {},
   "outputs": [],
   "source": [
    "%load_ext autoreload\n",
    "%autoreload 2\n",
    "import os\n",
    "import numpy as np\n",
    "from matplotlib import pyplot as plt\n",
    "from matplotlib import cm\n",
    "from IPython.display import Image\n",
    "import imageio.v2\n",
    "import csv\n",
    "\n",
    "import tqdm as tqdm\n",
    "import jax \n",
    "jax.config.update('jax_platform_name', 'cpu')\n",
    "\n",
    "plt.rcParams['font.family'] = 'serif'\n",
    "plt.rcParams['font.serif'] = ['Times New Roman'] + plt.rcParams['font.serif']\n",
    "\n",
    "from iLQR import iLQR, Path\n",
    "\n"
   ]
  },
  {
   "cell_type": "code",
   "execution_count": 2,
   "metadata": {},
   "outputs": [],
   "source": [
    "def load_path(filepath: str):\n",
    "    \"\"\"\n",
    "    Gets the centerline of the track from the trajectory data. We currently only\n",
    "    support 2D track.\n",
    "\n",
    "    Args:\n",
    "        filepath (str): the path to file consisting of the centerline position.\n",
    "\n",
    "    Returns:\n",
    "        np.ndarray: centerline, of the shape (2, N).\n",
    "    \"\"\"\n",
    "    x = []\n",
    "    y = []\n",
    "    with open(filepath) as f:\n",
    "        spamreader = csv.reader(f, delimiter=',')\n",
    "        for i, row in enumerate(spamreader):\n",
    "            if i > 0:\n",
    "                x.append(float(row[0]))\n",
    "                y.append(float(row[1]))\n",
    "\n",
    "    return np.array([x, y])"
   ]
  },
  {
   "cell_type": "code",
   "execution_count": null,
   "metadata": {},
   "outputs": [],
   "source": [
    "x_cur = np.array([0, 5.4, 0, 3.14, 0])  # Initial state.\n",
    "\n",
    "# Load ILQR\n",
    "centerline = load_path('outerloop_center_smooth.csv')\n",
    "path = Path(centerline, 0.6, 0.6, loop=True)\n",
    "\n",
    "config_file = '/hdd/Git_Repo/PrincetonRaceCar/ROS_Core/src/Planning/ilqr_planning_ros/configs/ilqr.yaml'\n",
    "solver = iLQR() #(config_file)\n",
    "solver.update_path(path)\n",
    "\n",
    "# define some parameters\n",
    "n = 10\n",
    "itr_receding = 30\n",
    "init_control = np.zeros((2, n))\n",
    "fig_prog_folder = 'fig/'\n",
    "\n",
    "state_history = np.zeros((5,itr_receding))\n",
    "t_process = np.zeros(itr_receding)\n",
    "for i in (pbar := tqdm.tqdm(range(itr_receding))):\n",
    "    \n",
    "    plan = solver.plan(x_cur, init_control)\n",
    "    states = plan['states']\n",
    "    controls = plan['controls']\n",
    "    x_cur = states[:,1]\n",
    "    state_history[:,i]  = x_cur\n",
    "    init_control[:,:-1] = controls[:,1:]\n",
    "    pbar.set_description(f\"iLQR takes : {plan['t_process']:.2f} sec']\")\n",
    "    t_process[i] = plan['t_process']\n",
    "    # plot\n",
    "    plt.clf()\n",
    "    path.plot_track()\n",
    "    sc = plt.scatter(\n",
    "        state_history[0, :i], state_history[1, :i], s=24,\n",
    "        c=state_history[2, :i], cmap=cm.jet, vmin=0, vmax=5,\n",
    "        edgecolor='none', marker='o'\n",
    "    )\n",
    "    cbar = plt.colorbar(sc)\n",
    "    cbar.set_label(r\"velocity [$m/s$]\", size=20)\n",
    "    \n",
    "    plt.plot(states[0, :], states[1, :], 'r', linewidth=2)\n",
    "    circle1 = plt.Circle((-2, 5.), 0.35, color='r')\n",
    "    plt.gca().add_patch(circle1)\n",
    "    plt.axis('equal')\n",
    "    plt.savefig(os.path.join(fig_prog_folder, str(i)+\".png\"), dpi=200)\n",
    "plt.close('All')\n",
    "\n",
    "gif_path = os.path.join(fig_prog_folder, 'rollout.gif')\n",
    "with imageio.get_writer(gif_path, mode='I') as writer:\n",
    "    for i in range(itr_receding):\n",
    "        filename = os.path.join(fig_prog_folder, str(i)+\".png\")\n",
    "        image = imageio.imread(filename)\n",
    "        writer.append_data(image)\n",
    "\n",
    "plt.figure()\n",
    "plt.plot(state_history[2,:])\n",
    "plt.title('Velocity')\n",
    "\n",
    "\n",
    "plt.figure()\n",
    "a = state_history[2, :]**2 / 0.257 * np.tan(state_history[-1, :])\n",
    "plt.plot(a)\n",
    "\n",
    "plt.figure()\n",
    "plt.plot(t_process)\n",
    "\n",
    "\n"
   ]
  },
  {
   "cell_type": "code",
   "execution_count": 6,
   "metadata": {},
   "outputs": [
    {
     "name": "stdout",
     "output_type": "stream",
     "text": [
      "iLQR config: {'num_dim_x': 5, 'num_dim_u': 2, 'n': 10, 'dt': 0.1, 'max_iter': 100, 'tol': 0.001, 'line_search_a': 0.1, 'line_search_b': 3, 'line_search_c': 1, 'reg_min': 0.001, 'reg_max': 100000.0, 'reg_scale_down': 0.5, 'reg_scale_up': 5.0, 'reg_init': 1, 'wheelbase': 0.257, 'radius': 0.13, 'delta_max': 0.35, 'delta_min': -0.35, 'v_max': 5.0, 'v_min': 0.0, 'omega_min': -6.0, 'omega_max': 6.0, 'a_max': 5.0, 'a_min': -5.0, 'dim_closest_pt_x': 0, 'dim_closest_pt_y': 1, 'dim_path_slope': 2, 'path_cost_type': 'quadratic', 'path_weight': 10.0, 'path_huber_delta': 2, 'dim_vel_ref': 3, 'vel_cost_type': 'quadratic', 'vel_weight': 2.0, 'vel_huber_delta': 0.5, 'lat_accel_thres': 6.0, 'lat_accel_a': 5.0, 'lat_accel_b': 1.0, 'dim_progress': 4, 'progress_weight': 1.0, 'ctrl_cost_type': 'quadratic', 'ctrl_cost_accel_weight': 1, 'ctrl_cost_steer_weight': 1, 'ctrl_cost_accel_huber_delta': 1.0, 'ctrl_cost_steer_huber_delta': 1.0, 'dim_obs_x': 5, 'dim_obs_y': 6, 'dim_obs_radius': 7, 'obs_a': 10.0, 'obs_b': 10.0}\n",
      "[1.   0.1  0.01]\n",
      "(5, 10) (2, 10) (5, 5, 10) (2, 2, 10) (2, 5, 10) (5, 5, 9) (5, 2, 9) <class 'float'>\n",
      "(5, 10) (2, 10) (5, 5, 10) (2, 2, 10) (2, 5, 10) (5, 5, 9) (5, 2, 9) <class 'float'>\n",
      "(5, 10) (2, 10) (5, 5, 10) (2, 2, 10) (2, 5, 10) (5, 5, 9) (5, 2, 9) <class 'float'>\n",
      "(5, 10) (2, 10) (5, 5, 10) (2, 2, 10) (2, 5, 10) (5, 5, 9) (5, 2, 9) <class 'float'>\n",
      "(5, 10) (2, 10) (5, 5, 10) (2, 2, 10) (2, 5, 10) (5, 5, 9) (5, 2, 9) <class 'float'>\n",
      "(5, 10) (2, 10) (5, 5, 10) (2, 2, 10) (2, 5, 10) (5, 5, 9) (5, 2, 9) <class 'float'>\n",
      "(5, 10) (2, 10) (5, 5, 10) (2, 2, 10) (2, 5, 10) (5, 5, 9) (5, 2, 9) <class 'float'>\n",
      "Warm up takes 2.163386106491089 seconds.\n",
      "1\n"
     ]
    }
   ],
   "source": [
    "centerline = load_path('outerloop_center_smooth.csv')\n",
    "path = Path(centerline, 0.6, 0.6, loop=True)\n",
    "solver = iLQR()\n",
    "print(solver.backward_pass._cache_size())"
   ]
  },
  {
   "cell_type": "code",
   "execution_count": null,
   "metadata": {},
   "outputs": [],
   "source": [
    "solver.update_path(path)\n",
    "\n",
    "x_cur = np.array([1.5, 5.4, 1, 3.14, 0])\n",
    "plan = solver.plan(x_cur)\n",
    "\n",
    "path.plot_track()\n",
    "path.plot_track_center()\n",
    "plt.plot(plan['states'][0, :], plan['states'][1, :], 'r-*', linewidth=2)\n",
    "\n",
    "circle1 = plt.Circle((0, 5.4), 0.35, color='r')\n",
    "plt.gca().add_patch(circle1)\n",
    "plt.axis('equal')\n",
    "\n",
    "print(plan['status'])\n",
    "\n",
    "plt.figure()\n",
    "a = plan['states'][2, :] \n",
    "plt.plot(a)\n",
    "plt.title('Velocity')\n",
    "\n",
    "plt.figure()\n",
    "plt.plot(plan['controls'][0,:])\n",
    "plt.plot(plan['controls'][-1,:], '--')\n",
    "plt.title('Steering')\n",
    "\n",
    "plt.figure()\n",
    "a = plan['states'][2, :]**2 / 0.257 * np.tan(plan['states'][-1, :])\n",
    "plt.plot(a)\n",
    "plt.title('Lateral Acceleration')\n"
   ]
  },
  {
   "cell_type": "code",
   "execution_count": null,
   "metadata": {},
   "outputs": [],
   "source": [
    "print(plan['t_process'])\n"
   ]
  }
 ],
 "metadata": {
  "kernelspec": {
   "display_name": "ros_base",
   "language": "python",
   "name": "python3"
  },
  "language_info": {
   "codemirror_mode": {
    "name": "ipython",
    "version": 3
   },
   "file_extension": ".py",
   "mimetype": "text/x-python",
   "name": "python",
   "nbconvert_exporter": "python",
   "pygments_lexer": "ipython3",
   "version": "3.9.15"
  },
  "orig_nbformat": 4,
  "vscode": {
   "interpreter": {
    "hash": "7568f0ba5f4aa6b4771c1bfaa80032ca4a9c3cb4e7689d750c939fd1994746c1"
   }
  }
 },
 "nbformat": 4,
 "nbformat_minor": 2
}
