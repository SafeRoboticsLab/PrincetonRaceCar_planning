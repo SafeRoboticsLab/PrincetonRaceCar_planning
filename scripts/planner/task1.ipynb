{
  "cells": [
    {
      "cell_type": "code",
      "execution_count": 2,
      "metadata": {},
      "outputs": [],
      "source": [
        "%load_ext autoreload\n",
        "%autoreload 2"
      ]
    },
    {
      "attachments": {},
      "cell_type": "markdown",
      "metadata": {},
      "source": [
        "# Getting Started \n",
        "Make sure your select *ros_base* as your kernel. You can do this by clicking on the kernel dropdown menu and selecting *ros_base*.\n"
      ]
    },
    {
      "cell_type": "markdown",
      "metadata": {
        "id": "RV600AF6pAR0"
      },
      "source": [
        " # Import Python dependencies"
      ]
    },
    {
      "cell_type": "code",
      "execution_count": 3,
      "metadata": {},
      "outputs": [],
      "source": [
        "import numpy as np\n",
        "from matplotlib import pyplot as plt\n",
        "from matplotlib import animation\n",
        "from IPython.display import HTML\n",
        "import numpy as np\n",
        "from IPython.display import Image\n",
        "import imageio.v2\n",
        "import csv\n",
        "\n",
        "import tqdm as tqdm\n",
        "\n",
        "\n",
        "plt.rcParams['font.family'] = 'serif'\n",
        "plt.rcParams['font.serif'] = ['Times New Roman'] + plt.rcParams['font.serif']\n",
        "\n",
        "from iLQR import RefPath\n",
        "from iLQR import iLQR\n",
        "# from iLQR import iLQRnp as iLQR\n"
      ]
    },
    {
      "cell_type": "markdown",
      "metadata": {
        "id": "xNohI8RWJyCB"
      },
      "source": [
        "# Task 4: Simulation on Race Tracks"
      ]
    },
    {
      "cell_type": "code",
      "execution_count": null,
      "metadata": {
        "cellView": "form",
        "id": "V3tssI5hO-Wz"
      },
      "outputs": [],
      "source": [
        "#@title { run: \"auto\" , form-width: \"30%\"}\n",
        "#@markdown # Set parameters for the planner\n",
        "#@markdown The default parameter can be used a baseline. Please play around with them to see how they will affect your planned trajectory\n",
        "\n",
        "# fixed parameters\n",
        "params = {}\n",
        "params['L'] = 0.257 # wheelbase [m]\n",
        "params['m'] = 2.99 # weight [kg]\n",
        "params['track_width'] = 0.4 # [m]\n",
        "params['delta_min']= -0.35  # minimum steering angle [rad]\n",
        "params['delta_max']= 0.35  # maximum steering angle [rad]\n",
        "params['track_width'] = 0.4 #[m ]\n",
        "\n",
        "#@markdown ## velocity\n",
        "v_max = 4 #@param {type:\"slider\", min:0, max:5, step:0.1}\n",
        "params['v_max']=v_max # max long vel [m/s]\n",
        "params['v_min']=0 # min long vel [m/s]\n",
        "\n",
        "\n",
        "#@markdown ## longitudinal acceleration\n",
        "a_min = -3.5 #@param {type:\"slider\", min:-10, max:0, step:0.1}\n",
        "a_max = 3.5 #@param {type:\"slider\", min:0, max:10, step:0.1}\n",
        "params['a_min']= a_min\n",
        "params['a_max']= a_max\n",
        "\n",
        "#@markdown ## lateral acceleration\n",
        "alat_max = 5 #@param {type:\"slider\", min:0, max:10, step:0.1}\n",
        "params['alat_max']= alat_max\n",
        "\n",
        "#@markdown ## weights in cost\n",
        "\n",
        "w_vel = 2 #@param {type:\"number\"}\n",
        "w_contour = 100 #@param {type:\"number\"}\n",
        "w_theta =  2#@param {type:\"number\"}\n",
        "w_accel =  1#@param {type:\"number\"}\n",
        "w_delta = 1 #@param {type:\"number\"}\n",
        "\n",
        "params['w_vel'] = w_vel\n",
        "params['w_contour'] = w_contour\n",
        "params['w_theta'] = w_theta\n",
        "params['w_accel'] = w_accel\n",
        "params['w_delta'] = w_delta\n",
        "\n",
        "#@markdown ## weights in soft constraints\n",
        "\n",
        "# parameter for soft constraints\n",
        "q1_v =  0.4#@param {type:\"number\"}\n",
        "q2_v =  2#@param {type:\"number\"}\n",
        "\n",
        "q1_road = 0.4#@param {type:\"number\"}\n",
        "q2_road = 2#@param {type:\"number\"}\n",
        "\n",
        "q1_lat =  0.4#@param {type:\"number\"}\n",
        "q2_lat =  2#@param {type:\"number\"}\n",
        "\n",
        "params['q1_v'] = q1_v\n",
        "params['q2_v'] = q2_v\n",
        "params['q1_road'] = q1_road\n",
        "params['q2_road'] = q2_road\n",
        "params['q1_lat'] = q1_lat\n",
        "params['q2_lat'] = q2_lat\n",
        "\n",
        "#@markdown ## Disturbance in simulation\n",
        "sigma_x = 0 #@param {type:\"slider\", min:0, max:5, step:0.1}\n",
        "sigma_y = 0 #@param {type:\"slider\", min:0, max:5, step:0.1}\n",
        "sigma_v = 0 #@param {type:\"slider\", min:0, max:5, step:0.1}\n",
        "sigma_theta = 0 #@param {type:\"slider\", min:0, max:5, step:0.1}\n",
        "sigma = np.array([sigma_x, sigma_y, sigma_v, sigma_theta])\n",
        "\n",
        "#@markdown ## iLQR Parameters\n",
        "T = 2 #@param {type:\"number\"}\n",
        "N = 10 #@param {type:\"integer\"}\n",
        "max_itr = 50  #@param {type:\"integer\"}\n",
        "params['T'] = T\n",
        "params['N'] = N+1\n",
        "params['max_itr'] = max_itr\n",
        "\n",
        "track_name = \"Austin\" #@param [\"Austin\", \"BrandsHatch\", \"Budapest\", \"Catalunya\", \"Hockenheim\", \"IMS\", \"MexicoCity\", \"Montreal\", \"Monza\", \"MoscowRaceway\", \"Norisring\", \"Nuerburgring\", \"Oschersleben\", \"Sakhir\", \"SaoPaulo\", \"Sepang\", \"Shanghai\", \"Silverstone\", \"Sochi\", \"Spa\", \"Spielberg\", \"Suzuka\", \"YasMarina\", \"Zandvoort\"]"
      ]
    },
    {
      "cell_type": "code",
      "execution_count": null,
      "metadata": {
        "cellView": "form",
        "id": "_T3P0jboJDXS"
      },
      "outputs": [],
      "source": [
        "#@markdown # Run Simulation\n",
        "\n",
        "dt = params['T'] / (params['N']-1)\n",
        "\n",
        "def simulate_kin(state, control, step = 10):\n",
        "\n",
        "    accel = np.clip(control[0], params['a_min'], params['a_max'])\n",
        "    delta = np.clip(control[1], params['delta_min'], params['delta_max'])\n",
        "    \n",
        "    next_state = state\n",
        "    dt_step = dt/step\n",
        "    for _ in range(step):\n",
        "        # State: [x, y, psi, v]\n",
        "        d_x = (next_state[2]*dt_step+0.5*accel*dt_step**2)*np.cos(next_state[3])\n",
        "        d_y = (next_state[2]*dt_step+0.5*accel*dt_step**2)*np.sin(next_state[3])\n",
        "        d_v = accel*dt_step\n",
        "        d_psi = (next_state[2]*dt_step+0.5*accel*dt_step**2)*np.tan(delta)/params['L']\n",
        "        next_state = next_state + np.array([d_x, d_y, d_v, d_psi])+sigma*np.random.normal(size=(4))*dt_step\n",
        "        next_state[2] = max(0, next_state[2])\n",
        "    return next_state\n",
        "\n",
        "def load_track(track_name):\n",
        "  x = []\n",
        "  y = []\n",
        "  width_r = []\n",
        "  width_l = []\n",
        "  filename = 'racetrack/'+track_name+'.csv'\n",
        "  with open(filename, newline='') as f:\n",
        "      spamreader = csv.reader(f, delimiter=',')\n",
        "      for i, row in enumerate(spamreader):\n",
        "          if i>0:\n",
        "              x.append(float(row[0]))\n",
        "              y.append(float(row[1]))\n",
        "              width_r.append(float(row[2]))\n",
        "              width_l.append(float(row[3]))\n",
        "\n",
        "  x = np.array(x)/25.0\n",
        "  y = np.array(y)/25.0\n",
        "\n",
        "  x_range = max(x) - min(x)\n",
        "  y_range = max(y) - min(y)\n",
        "  ratio = x_range/y_range\n",
        "  if ratio < 1:\n",
        "    center_line = np.array([y,x])\n",
        "    ratio = 1/ratio\n",
        "  else:\n",
        "    center_line = np.array([x,y])\n",
        "  track = Track(center_line = center_line, width_left = 0.4, width_right = 0.4)\n",
        "\n",
        "  \n",
        "  return track, ratio\n",
        "\n",
        "# initialize the ilqr\n",
        "track, ratio = load_track(track_name)\n",
        "solver = iLQR(track, params)\n",
        "\n",
        "itr_max = 500\n",
        "state_hist = np.zeros((4,itr_max+1))\n",
        "control_hist = np.zeros((2,itr_max))\n",
        "plan_hist = np.zeros((4, params['N'], itr_max))\n",
        "\n",
        "pos0, psi0 = track.interp([0])\n",
        "x_cur =np.array([pos0[0], pos0[1], 0, psi0[0]])\n",
        "init_control = np.zeros((2,params['N']))\n",
        " \n",
        "t_total = 0\n",
        "\n",
        "# solve\n",
        "for i in range(itr_max):\n",
        "    \n",
        "    states, controls, t_process, status, theta \\\n",
        "            = solver.solve(x_cur, controls = init_control) \n",
        "    \n",
        "    plan_hist[:,:, i] = states\n",
        "    \n",
        "    state_hist[:,i] = states[:,0]\n",
        "    control_hist[:,i] = controls[:,0]\n",
        "    init_control[:,:-1] = controls[:,1:]\n",
        "    \n",
        "    x_cur = simulate_kin(x_cur, controls[:,0])\n",
        "    t_total += t_process\n",
        "   \n",
        "    \n",
        "    if theta[1]<theta[0]:\n",
        "        break\n",
        "\n",
        "state_hist = state_hist[:, :i+2]\n",
        "control_hist = control_hist[:,:i+1]\n",
        "plan_hist = plan_hist[:,:, :i+1]\n",
        "print(\"Complete a lap on \", track_name, \" in \", (i+1)*dt, 'secs')\n",
        "\n",
        "plot_zoom = 1 \n",
        "\n",
        "# plot parameter\n",
        "fig_x_max = 20*plot_zoom\n",
        "fig_y_max = 10*plot_zoom\n",
        "cut_off_ratio = fig_x_max/fig_y_max\n",
        "if ratio>=cut_off_ratio: #\n",
        "  fig_x = fig_x_max\n",
        "  fig_y = fig_x_max/ratio\n",
        "else:\n",
        "  fig_y = fig_y_max\n",
        "  fig_x = fig_y_max*ratio"
      ]
    },
    {
      "cell_type": "code",
      "execution_count": null,
      "metadata": {
        "cellView": "form",
        "id": "yVOdq6wias8_"
      },
      "outputs": [],
      "source": [
        "#@title { run: \"auto\" }\n",
        "\n",
        "#@markdown ## Scale the plot to fit your screen\n",
        "plot_zoom = 0.6 #@param {type:\"slider\", min:0.1, max:2, step:0.1}\n",
        "\n",
        "# plot parameter\n",
        "fig_x_max = 30*plot_zoom\n",
        "fig_y_max = 15*plot_zoom\n",
        "cut_off_ratio = fig_x_max/fig_y_max\n",
        "if ratio>=cut_off_ratio: #\n",
        "  fig_x = fig_x_max\n",
        "  fig_y = fig_x_max/ratio\n",
        "else:\n",
        "  fig_y = fig_y_max\n",
        "  fig_x = fig_y_max*ratio"
      ]
    },
    {
      "cell_type": "code",
      "execution_count": null,
      "metadata": {
        "cellView": "form",
        "id": "KJ_4xWdChUl_"
      },
      "outputs": [],
      "source": [
        "#@markdown # Visualize simulation (This takes a while to generate)\n",
        "sim = plt.figure(figsize=(fig_x, fig_y))\n",
        "N = plan_hist.shape[-1]\n",
        "track.plot_track()\n",
        "plan_plot = plt.plot([], [], linewidth= 4)[0]\n",
        "traj_plot = plt.scatter([], [], s = 80, c=[], cmap=cm.jet, vmin=0, vmax=params['v_max'], edgecolor='none', marker='o')\n",
        "cbar = plt.colorbar(traj_plot)\n",
        "cbar.set_label(r\"velocity [$m/s$]\", size=20)\n",
        "plt.axis('equal')\n",
        "plt.close()\n",
        "\n",
        "def drawframe(n):\n",
        "    traj_plot.set_offsets(state_hist[:2,:n+1].T)\n",
        "    traj_plot.set_array(state_hist[2,:n+1])\n",
        "    plan_plot.set_data(plan_hist[0,:, n], plan_hist[1,:, n])\n",
        "    \n",
        "    return (traj_plot,plan_plot)\n",
        "\n",
        "\n",
        "# blit=True re-draws only the parts that have changed.\n",
        "anim = animation.FuncAnimation(sim, drawframe, frames=N, interval=dt*1000, blit=True)\n",
        "HTML(anim.to_html5_video())"
      ]
    },
    {
      "cell_type": "code",
      "execution_count": null,
      "metadata": {
        "cellView": "form",
        "id": "Z7OSLz5sLoeB"
      },
      "outputs": [],
      "source": [
        "#@markdown  ## Plot raceline\n",
        "plt.figure(figsize=(fig_x, fig_y))\n",
        "plt.plot(state_hist[0,:], state_hist[1,:], 'b-', linewidth= 5, alpha =0.6, label = 'Trajectory')\n",
        "track.plot_track(centerline = True)\n",
        "plt.legend(prop={'size': 20})\n",
        "#plt.title(\"Trajectory\", size = 20)\n",
        "plt.axis('equal')\n",
        "plt.axis('off')\n",
        "plt.show()\n",
        "\n",
        "\n",
        "\n"
      ]
    },
    {
      "cell_type": "code",
      "execution_count": null,
      "metadata": {
        "cellView": "form",
        "id": "sfsBM9SOXe2J"
      },
      "outputs": [],
      "source": [
        "#@markdown  ## Visualize velocity along the track\n",
        "plt.figure(figsize=(fig_x, fig_y))\n",
        "track.plot_track()\n",
        "sc = plt.scatter(state_hist[0, :-1], state_hist[1,:-1], s = 80, \n",
        "                c=state_hist[2,:-1], cmap=cm.jet, \n",
        "                vmin=params['v_min'], vmax=params['v_max'], edgecolor='none', marker='o')\n",
        "cbar = plt.colorbar(sc)\n",
        "cbar.set_label(r\"Velocity [$m/s$]\", size=20)\n",
        "plt.axis('equal')\n",
        "plt.show()"
      ]
    },
    {
      "cell_type": "code",
      "execution_count": null,
      "metadata": {
        "cellView": "form",
        "id": "6aXj0jmbXxk5"
      },
      "outputs": [],
      "source": [
        "#@markdown  ## Visualize longitudinal acceleration along the track\n",
        "plt.figure(figsize=(fig_x, fig_y))\n",
        "track.plot_track()\n",
        "sc = plt.scatter(state_hist[0, :-1], state_hist[1,:-1], s = 80, \n",
        "                c=control_hist[0,:], cmap=cm.jet, \n",
        "                vmin=params['a_min'], vmax=params['a_max'], edgecolor='none', marker='o')\n",
        "cbar = plt.colorbar(sc)\n",
        "cbar.set_label(r\"Longitudinal Accel [$m/s^2$]\", size=20)\n",
        "plt.axis('equal')\n",
        "plt.show()"
      ]
    },
    {
      "cell_type": "code",
      "execution_count": null,
      "metadata": {
        "cellView": "form",
        "id": "H27FQTvN4QjI"
      },
      "outputs": [],
      "source": [
        "#@markdown  ## Visualize lateral acceleration along the track\n",
        "plt.figure(figsize=(fig_x, fig_y))\n",
        "track.plot_track()\n",
        "alat = state_hist[2,:-1]**2*np.tan(control_hist[1,:])/0.257\n",
        "sc = plt.scatter(state_hist[0, :-1], state_hist[1,:-1], s = 80, \n",
        "                c=alat, cmap=cm.jet, \n",
        "                vmin = 0, vmax=params['alat_max'], edgecolor='none', marker='o')\n",
        "cbar = plt.colorbar(sc)\n",
        "cbar.set_label(r\"Lateral Accel [$m/s^2$]\", size=20)\n",
        "plt.axis('equal')\n",
        "plt.show()"
      ]
    }
  ],
  "metadata": {
    "colab": {
      "provenance": []
    },
    "kernelspec": {
      "display_name": "ros_base2",
      "language": "python",
      "name": "python3"
    },
    "language_info": {
      "codemirror_mode": {
        "name": "ipython",
        "version": 3
      },
      "file_extension": ".py",
      "mimetype": "text/x-python",
      "name": "python",
      "nbconvert_exporter": "python",
      "pygments_lexer": "ipython3",
      "version": "3.9.15"
    },
    "vscode": {
      "interpreter": {
        "hash": "80bc6b426aad7f14ae4d78093b52232e57ef69793b7158280c498143729720cd"
      }
    }
  },
  "nbformat": 4,
  "nbformat_minor": 0
}
