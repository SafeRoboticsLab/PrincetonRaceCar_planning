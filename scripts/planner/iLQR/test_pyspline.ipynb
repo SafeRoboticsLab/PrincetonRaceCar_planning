{
 "cells": [
  {
   "cell_type": "code",
   "execution_count": 12,
   "metadata": {},
   "outputs": [],
   "source": [
    "import numpy as np\n",
    "from matplotlib import  pyplot as plt\n",
    "import matplotlib\n",
    "from pyspline.pyCurve import Curve\n",
    "import csv"
   ]
  },
  {
   "cell_type": "code",
   "execution_count": 14,
   "metadata": {},
   "outputs": [],
   "source": [
    "x =np.array([0.531, 0.571, 0.607, 0.652, 0.695, 0.74, 0.794, 0.844, 0.902, 0.952, 0.998, 1.066,\n",
    "1.131, 1.189, 1.245, 1.314, 1.359, 1.419, 1.475, 1.531, 1.606, 2.549, 3.132, 4.313,\n",
    "4.413, 4.608, 4.696, 4.768, 4.838, 4.916, 4.967, 5.043, 5.103, 5.161, 5.203, 5.258,\n",
    "5.298, 5.344, 5.392, 5.437, 5.467, 5.49, 5.511, 5.533, 5.554, 5.563, 5.582, 5.585,\n",
    "5.594, 5.572, 5.563, 5.539, 5.518, 5.487, 5.46, 5.422, 5.365, 5.328, 5.287, 5.245,\n",
    "5.133, 5.109, 5.063, 4.967, 4.94, 4.904, 4.883, 4.883, 4.828, 4.497, 4.117, 3.712,\n",
    "3.303, 2.602, 1.911, 1.757, 1.395, 1.155, 1.102, 1.029, 0.968, 0.914, 0.861, 0.804,\n",
    "0.789])\n",
    "\n",
    "y = np.array([0.65 , 0.617 , 0.585 , 0.553 , 0.523 , 0.491 , 0.456 , 0.43 , 0.394 , 0.371 , 0.349 , 0.313 , 0.284 , 0.254 , 0.237 , 0.215 , 0.21 , 0.197 , 0.184 , 0.181 , 0.174 , 0.47 , 0.461 , 0.442 , 0.442 , 0.448 , 0.457 , 0.473 , 0.489 , 0.508 , 0.526 , 0.554 , 0.586 , 0.614 , 0.644 , 0.676 , 0.709 , 0.755 , 0.811 , 0.866 , 0.916 , 0.969 , 1.023 , 1.087 , 1.147 , 1.215 , 1.278 , 1.394 , 3.35 , 5.086 , 5.135 , 5.189 , 5.238 , 5.288 , 5.332 , 5.376 , 5.416 , 5.454 , 5.48 , 5.511 , 5.55 , 5.56 , 5.563 , 5.566 , 5.566 , 5.566 , 5.566 , 5.566 , 5.582 , 5.732 , 5.887 , 5.887 , 5.884 , 5.9 , 5.903 , 5.904 , 5.904 , 5.904 , 5.891 , 5.867 , 5.831 , 5.803 , 5.771 , 5.729 , 5.718])\n"
   ]
  },
  {
   "cell_type": "code",
   "execution_count": 28,
   "metadata": {},
   "outputs": [
    {
     "name": "stdout",
     "output_type": "stream",
     "text": [
      "[4.883 4.883]\n",
      "[5.566 5.566]\n"
     ]
    }
   ],
   "source": [
    "print(x[66:68])\n",
    "print(y[66:68])"
   ]
  },
  {
   "cell_type": "code",
   "execution_count": 27,
   "metadata": {},
   "outputs": [
    {
     "name": "stderr",
     "output_type": "stream",
     "text": [
      "/home/zixuzhang/mambaforge/envs/ros_base/lib/python3.9/site-packages/pyspline/pyCurve.py:422: RuntimeWarning: invalid value encountered in divide\n",
      "  self.s = self.s / self.s[-1]\n"
     ]
    },
    {
     "ename": "RuntimeError",
     "evalue": "Factor is exactly singular",
     "output_type": "error",
     "traceback": [
      "\u001b[0;31m---------------------------------------------------------------------------\u001b[0m",
      "\u001b[0;31mRuntimeError\u001b[0m                              Traceback (most recent call last)",
      "Cell \u001b[0;32mIn[27], line 1\u001b[0m\n\u001b[0;32m----> 1\u001b[0m curve \u001b[39m=\u001b[39m Curve(x \u001b[39m=\u001b[39;49m x[\u001b[39m66\u001b[39;49m:\u001b[39m68\u001b[39;49m], y \u001b[39m=\u001b[39;49m y[\u001b[39m66\u001b[39;49m:\u001b[39m68\u001b[39;49m], k \u001b[39m=\u001b[39;49m \u001b[39m3\u001b[39;49m)\n",
      "File \u001b[0;32m~/mambaforge/envs/ros_base/lib/python3.9/site-packages/pyspline/pyCurve.py:251\u001b[0m, in \u001b[0;36mCurve.__init__\u001b[0;34m(self, **kwargs)\u001b[0m\n\u001b[1;32m    248\u001b[0m     \u001b[39mself\u001b[39m\u001b[39m.\u001b[39minterp \u001b[39m=\u001b[39m \u001b[39mFalse\u001b[39;00m\n\u001b[1;32m    249\u001b[0m     \u001b[39mself\u001b[39m\u001b[39m.\u001b[39mnCtl \u001b[39m=\u001b[39m checkInput(kwargs[\u001b[39m\"\u001b[39m\u001b[39mnCtl\u001b[39m\u001b[39m\"\u001b[39m], \u001b[39m\"\u001b[39m\u001b[39mnCtl\u001b[39m\u001b[39m\"\u001b[39m, \u001b[39mint\u001b[39m, \u001b[39m0\u001b[39m)\n\u001b[0;32m--> 251\u001b[0m \u001b[39mself\u001b[39;49m\u001b[39m.\u001b[39;49mrecompute(\u001b[39mself\u001b[39;49m\u001b[39m.\u001b[39;49mnIter, computeKnots\u001b[39m=\u001b[39;49m\u001b[39mTrue\u001b[39;49;00m)\n",
      "File \u001b[0;32m~/mambaforge/envs/ros_base/lib/python3.9/site-packages/pyspline/pyCurve.py:330\u001b[0m, in \u001b[0;36mCurve.recompute\u001b[0;34m(self, nIter, computeKnots)\u001b[0m\n\u001b[1;32m    326\u001b[0m N \u001b[39m=\u001b[39m _assembleMatrix(nVals, nColInd, nRowPtr, (nu \u001b[39m+\u001b[39m ndu, \u001b[39mself\u001b[39m\u001b[39m.\u001b[39mnCtl))\u001b[39m.\u001b[39mtocsc()\n\u001b[1;32m    328\u001b[0m \u001b[39mif\u001b[39;00m \u001b[39mself\u001b[39m\u001b[39m.\u001b[39minterp:\n\u001b[1;32m    329\u001b[0m     \u001b[39m# Factorize once for efficiency\u001b[39;00m\n\u001b[0;32m--> 330\u001b[0m     solve \u001b[39m=\u001b[39m linalg\u001b[39m.\u001b[39;49mfactorized(N)\n\u001b[1;32m    331\u001b[0m     \u001b[39mfor\u001b[39;00m idim \u001b[39min\u001b[39;00m \u001b[39mrange\u001b[39m(\u001b[39mself\u001b[39m\u001b[39m.\u001b[39mnDim):\n\u001b[1;32m    332\u001b[0m         \u001b[39mself\u001b[39m\u001b[39m.\u001b[39mcoef[:, idim] \u001b[39m=\u001b[39m solve(S[:, idim])\n",
      "File \u001b[0;32m~/mambaforge/envs/ros_base/lib/python3.9/site-packages/scipy/sparse/linalg/_dsolve/linsolve.py:574\u001b[0m, in \u001b[0;36mfactorized\u001b[0;34m(A)\u001b[0m\n\u001b[1;32m    572\u001b[0m     \u001b[39mreturn\u001b[39;00m solve\n\u001b[1;32m    573\u001b[0m \u001b[39melse\u001b[39;00m:\n\u001b[0;32m--> 574\u001b[0m     \u001b[39mreturn\u001b[39;00m splu(A)\u001b[39m.\u001b[39msolve\n",
      "File \u001b[0;32m~/mambaforge/envs/ros_base/lib/python3.9/site-packages/scipy/sparse/linalg/_dsolve/linsolve.py:413\u001b[0m, in \u001b[0;36msplu\u001b[0;34m(A, permc_spec, diag_pivot_thresh, relax, panel_size, options)\u001b[0m\n\u001b[1;32m    410\u001b[0m \u001b[39mif\u001b[39;00m (_options[\u001b[39m\"\u001b[39m\u001b[39mColPerm\u001b[39m\u001b[39m\"\u001b[39m] \u001b[39m==\u001b[39m \u001b[39m\"\u001b[39m\u001b[39mNATURAL\u001b[39m\u001b[39m\"\u001b[39m):\n\u001b[1;32m    411\u001b[0m     _options[\u001b[39m\"\u001b[39m\u001b[39mSymmetricMode\u001b[39m\u001b[39m\"\u001b[39m] \u001b[39m=\u001b[39m \u001b[39mTrue\u001b[39;00m\n\u001b[0;32m--> 413\u001b[0m \u001b[39mreturn\u001b[39;00m _superlu\u001b[39m.\u001b[39;49mgstrf(N, A\u001b[39m.\u001b[39;49mnnz, A\u001b[39m.\u001b[39;49mdata, A\u001b[39m.\u001b[39;49mindices, A\u001b[39m.\u001b[39;49mindptr,\n\u001b[1;32m    414\u001b[0m                       csc_construct_func\u001b[39m=\u001b[39;49mcsc_construct_func,\n\u001b[1;32m    415\u001b[0m                       ilu\u001b[39m=\u001b[39;49m\u001b[39mFalse\u001b[39;49;00m, options\u001b[39m=\u001b[39;49m_options)\n",
      "\u001b[0;31mRuntimeError\u001b[0m: Factor is exactly singular"
     ]
    }
   ],
   "source": [
    "\n",
    "curve = Curve(x = x[66:68], y = y[66:68], k = 3)\n",
    "print()"
   ]
  }
 ],
 "metadata": {
  "kernelspec": {
   "display_name": "ros_base",
   "language": "python",
   "name": "python3"
  },
  "language_info": {
   "codemirror_mode": {
    "name": "ipython",
    "version": 3
   },
   "file_extension": ".py",
   "mimetype": "text/x-python",
   "name": "python",
   "nbconvert_exporter": "python",
   "pygments_lexer": "ipython3",
   "version": "3.9.15"
  },
  "orig_nbformat": 4,
  "vscode": {
   "interpreter": {
    "hash": "1a27c90f2060895aa90b19a462056c285c64efb323f79ec421bc0484bd333f12"
   }
  }
 },
 "nbformat": 4,
 "nbformat_minor": 2
}
