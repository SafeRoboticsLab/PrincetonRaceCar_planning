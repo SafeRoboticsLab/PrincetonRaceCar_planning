{
 "cells": [
  {
   "cell_type": "code",
   "execution_count": 1,
   "metadata": {},
   "outputs": [],
   "source": [
    "%load_ext autoreload\n",
    "%autoreload 2"
   ]
  },
  {
   "cell_type": "code",
   "execution_count": 13,
   "metadata": {},
   "outputs": [],
   "source": [
    "\n",
    "import os\n",
    "import numpy as np\n",
    "from matplotlib import pyplot as plt\n",
    "from matplotlib import cm\n",
    "from  matplotlib.patches import Polygon\n",
    "from IPython.display import Image\n",
    "import imageio.v2\n",
    "import csv\n",
    "\n",
    "import tqdm as tqdm\n",
    "import jax \n",
    "jax.config.update('jax_platform_name', 'cpu')\n",
    "jax.config.update(\"jax_debug_nans\", False)\n",
    "\n",
    "plt.rcParams['font.family'] = 'serif'\n",
    "plt.rcParams['font.serif'] = ['Times New Roman'] + plt.rcParams['font.serif']\n",
    "\n",
    "from iLQR import iLQR, Path\n",
    "\n"
   ]
  },
  {
   "cell_type": "code",
   "execution_count": 3,
   "metadata": {},
   "outputs": [],
   "source": [
    "def load_path(filepath: str):\n",
    "    \"\"\"\n",
    "    Gets the centerline of the track from the trajectory data. We currently only\n",
    "    support 2D track.\n",
    "\n",
    "    Args:\n",
    "        filepath (str): the path to file consisting of the centerline position.\n",
    "\n",
    "    Returns:\n",
    "        np.ndarray: centerline, of the shape (2, N).\n",
    "    \"\"\"\n",
    "    x = []\n",
    "    y = []\n",
    "    with open(filepath) as f:\n",
    "        spamreader = csv.reader(f, delimiter=',')\n",
    "        for i, row in enumerate(spamreader):\n",
    "            if i > 0:\n",
    "                x.append(float(row[0]))\n",
    "                y.append(float(row[1]))\n",
    "\n",
    "    return np.array([x, y])"
   ]
  },
  {
   "cell_type": "code",
   "execution_count": 17,
   "metadata": {},
   "outputs": [
    {
     "data": {
      "text/plain": [
       "1"
      ]
     },
     "execution_count": 17,
     "metadata": {},
     "output_type": "execute_result"
    }
   ],
   "source": [
    "solver.backward_pass_new._cache_size()"
   ]
  },
  {
   "cell_type": "code",
   "execution_count": 18,
   "metadata": {},
   "outputs": [
    {
     "name": "stdout",
     "output_type": "stream",
     "text": [
      "itr 0, det = 4.208984851837158, reg=1.0\n",
      "itr 1, det = 4.430482387542725, reg=1.0\n",
      "itr 2, det = 4.751713752746582, reg=1.0\n",
      "itr 3, det = 5.236364841461182, reg=1.0\n",
      "itr 4, det = 5.932406425476074, reg=1.0\n",
      "itr 5, det = 6.7788987159729, reg=1.0\n",
      "itr 6, det = 7.573365211486816, reg=1.0\n",
      "itr 7, det = 8.134350776672363, reg=1.0\n",
      "itr 8, det = 8.45113754272461, reg=1.0\n",
      "Update from  68.21582  to  36.518932 reg:  1.0 alpha: 1.000 2.649\n",
      "itr 0, det = 4.185235023498535, reg=0.5\n",
      "itr 1, det = 4.4325408935546875, reg=0.5\n",
      "itr 2, det = 5.1859540939331055, reg=0.5\n",
      "itr 3, det = 7.089565753936768, reg=0.5\n",
      "itr 4, det = 9.388898849487305, reg=0.5\n",
      "itr 5, det = 10.392122268676758, reg=0.5\n",
      "itr 6, det = 10.37886905670166, reg=0.5\n",
      "itr 7, det = 9.936680793762207, reg=0.5\n",
      "itr 8, det = 9.36147689819336, reg=0.5\n",
      "Update from  36.518932  to  24.28042 reg:  0.5 alpha: 1.000 2.654\n",
      "itr 0, det = 4.172690391540527, reg=0.25\n",
      "itr 1, det = 4.415863513946533, reg=0.25\n",
      "itr 2, det = 5.194746971130371, reg=0.25\n",
      "itr 3, det = 7.276947021484375, reg=0.25\n",
      "itr 4, det = 9.89002513885498, reg=0.25\n",
      "itr 5, det = 11.000785827636719, reg=0.25\n",
      "itr 6, det = 10.843037605285645, reg=0.25\n",
      "itr 7, det = 10.236909866333008, reg=0.25\n",
      "itr 8, det = 9.588714599609375, reg=0.25\n",
      "Update from  24.28042  to  22.97127 reg:  0.25 alpha: 1.000 2.658\n",
      "itr 0, det = 4.1691670417785645, reg=0.125\n",
      "itr 1, det = 4.424584865570068, reg=0.125\n",
      "itr 2, det = 5.273606777191162, reg=0.125\n",
      "itr 3, det = 7.490213394165039, reg=0.125\n",
      "itr 4, det = 10.002498626708984, reg=0.125\n",
      "itr 5, det = 10.820384979248047, reg=0.125\n",
      "itr 6, det = 10.54760456085205, reg=0.125\n",
      "itr 7, det = 10.037384986877441, reg=0.125\n",
      "itr 8, det = 9.520873069763184, reg=0.125\n",
      "Update from  22.97127  to  22.900343 reg:  0.125 alpha: 1.000 2.662\n",
      "itr 0, det = 4.166642189025879, reg=0.0625\n",
      "itr 1, det = 4.421142101287842, reg=0.0625\n",
      "itr 2, det = 5.262204170227051, reg=0.0625\n",
      "itr 3, det = 7.456075668334961, reg=0.0625\n",
      "itr 4, det = 9.951518058776855, reg=0.0625\n",
      "itr 5, det = 10.76750659942627, reg=0.0625\n",
      "itr 6, det = 10.495092391967773, reg=0.0625\n",
      "itr 7, det = 9.99705696105957, reg=0.0625\n",
      "itr 8, det = 9.497515678405762, reg=0.0625\n",
      "Update from  22.900343  to  22.897694 reg:  0.0625 alpha: 1.000 2.666\n",
      "itr 0, det = 4.165314674377441, reg=0.03125\n",
      "itr 1, det = 4.419782638549805, reg=0.03125\n",
      "itr 2, det = 5.260456562042236, reg=0.03125\n",
      "itr 3, det = 7.452864170074463, reg=0.03125\n",
      "itr 4, det = 9.946377754211426, reg=0.03125\n",
      "itr 5, det = 10.761516571044922, reg=0.03125\n",
      "itr 6, det = 10.489103317260742, reg=0.03125\n",
      "itr 7, det = 9.99185848236084, reg=0.03125\n",
      "itr 8, det = 9.493714332580566, reg=0.03125\n",
      "Update from  22.897694  to  22.897459 reg:  0.03125 alpha: 1.000 2.669\n",
      "itr 0, det = 4.1646318435668945, reg=0.015625\n",
      "itr 1, det = 4.4190754890441895, reg=0.015625\n",
      "itr 2, det = 5.259644031524658, reg=0.015625\n",
      "itr 3, det = 7.451761245727539, reg=0.015625\n",
      "itr 4, det = 9.94498348236084, reg=0.015625\n",
      "itr 5, det = 10.760056495666504, reg=0.015625\n",
      "itr 6, det = 10.487679481506348, reg=0.015625\n",
      "itr 7, det = 9.990527153015137, reg=0.015625\n",
      "itr 8, det = 9.492533683776855, reg=0.015625\n",
      "Update from  22.897459  to  22.897436 reg:  0.015625 alpha: 1.000 2.673\n",
      "itr 0, det = 4.164289951324463, reg=0.0078125\n",
      "itr 1, det = 4.418723106384277, reg=0.0078125\n",
      "itr 2, det = 5.259259223937988, reg=0.0078125\n",
      "itr 3, det = 7.451292991638184, reg=0.0078125\n",
      "itr 4, det = 9.944425582885742, reg=0.0078125\n",
      "itr 5, det = 10.759468078613281, reg=0.0078125\n",
      "itr 6, det = 10.487104415893555, reg=0.0078125\n",
      "itr 7, det = 9.989977836608887, reg=0.0078125\n",
      "itr 8, det = 9.492012023925781, reg=0.0078125\n",
      "Update from  22.897436  to  22.897434 reg:  0.0078125 alpha: 0.100 2.679\n",
      "itr 0, det = 4.164118766784668, reg=0.00390625\n",
      "itr 1, det = 4.418546676635742, reg=0.00390625\n",
      "itr 2, det = 5.259068012237549, reg=0.00390625\n",
      "itr 3, det = 7.451065540313721, reg=0.00390625\n",
      "itr 4, det = 9.944153785705566, reg=0.00390625\n",
      "itr 5, det = 10.759186744689941, reg=0.00390625\n",
      "itr 6, det = 10.486828804016113, reg=0.00390625\n",
      "itr 7, det = 9.989712715148926, reg=0.00390625\n",
      "itr 8, det = 9.491758346557617, reg=0.00390625\n",
      "itr 0, det = 4.1648030281066895, reg=0.01953125\n",
      "itr 1, det = 4.419252395629883, reg=0.01953125\n",
      "itr 2, det = 5.259833812713623, reg=0.01953125\n",
      "itr 3, det = 7.451980113983154, reg=0.01953125\n",
      "itr 4, det = 9.945234298706055, reg=0.01953125\n",
      "itr 5, det = 10.760311126708984, reg=0.01953125\n",
      "itr 6, det = 10.48792552947998, reg=0.01953125\n",
      "itr 7, det = 9.990767478942871, reg=0.01953125\n",
      "itr 8, det = 9.492770195007324, reg=0.01953125\n",
      "itr 0, det = 4.168228626251221, reg=0.09765625\n",
      "itr 1, det = 4.422781467437744, reg=0.09765625\n",
      "itr 2, det = 5.263668060302734, reg=0.09765625\n",
      "itr 3, det = 7.456564903259277, reg=0.09765625\n",
      "itr 4, det = 9.95063304901123, reg=0.09765625\n",
      "itr 5, det = 10.765942573547363, reg=0.09765625\n",
      "itr 6, det = 10.493419647216797, reg=0.09765625\n",
      "itr 7, det = 9.996041297912598, reg=0.09765625\n",
      "itr 8, det = 9.497833251953125, reg=0.09765625\n",
      "itr 0, det = 4.185376167297363, reg=0.48828125\n",
      "itr 1, det = 4.440507888793945, reg=0.48828125\n",
      "itr 2, det = 5.282986164093018, reg=0.48828125\n",
      "itr 3, det = 7.479650020599365, reg=0.48828125\n",
      "itr 4, det = 9.977752685546875, reg=0.48828125\n",
      "itr 5, det = 10.794224739074707, reg=0.48828125\n",
      "itr 6, det = 10.521026611328125, reg=0.48828125\n",
      "itr 7, det = 10.022565841674805, reg=0.48828125\n",
      "itr 8, det = 9.52328109741211, reg=0.48828125\n",
      "itr 0, det = 4.2716383934021, reg=2.44140625\n",
      "itr 1, det = 4.531059741973877, reg=2.44140625\n",
      "itr 2, det = 5.383122444152832, reg=2.44140625\n",
      "itr 3, det = 7.599122524261475, reg=2.44140625\n",
      "itr 4, det = 10.11640739440918, reg=2.44140625\n",
      "itr 5, det = 10.93898868560791, reg=2.44140625\n",
      "itr 6, det = 10.662928581237793, reg=2.44140625\n",
      "itr 7, det = 10.158918380737305, reg=2.44140625\n",
      "itr 8, det = 9.653777122497559, reg=2.44140625\n",
      "itr 0, det = 4.7160563468933105, reg=12.20703125\n",
      "itr 1, det = 5.029537200927734, reg=12.20703125\n",
      "itr 2, det = 5.9666748046875, reg=12.20703125\n",
      "itr 3, det = 8.289726257324219, reg=12.20703125\n",
      "itr 4, det = 10.880281448364258, reg=12.20703125\n",
      "itr 5, det = 11.739561080932617, reg=12.20703125\n",
      "itr 6, det = 11.46020221710205, reg=12.20703125\n",
      "itr 7, det = 10.92557144165039, reg=12.20703125\n",
      "itr 8, det = 10.380568504333496, reg=12.20703125\n",
      "itr 0, det = 7.265835762023926, reg=61.03515625\n",
      "itr 1, det = 8.469061851501465, reg=61.03515625\n",
      "itr 2, det = 10.339224815368652, reg=61.03515625\n",
      "itr 3, det = 13.161405563354492, reg=61.03515625\n",
      "itr 4, det = 15.775986671447754, reg=61.03515625\n",
      "itr 5, det = 16.818225860595703, reg=61.03515625\n",
      "itr 6, det = 16.598093032836914, reg=61.03515625\n",
      "itr 7, det = 15.860631942749023, reg=61.03515625\n",
      "itr 8, det = 15.003427505493164, reg=61.03515625\n",
      "itr 0, det = 28.206987380981445, reg=305.17578125\n",
      "itr 1, det = 40.051578521728516, reg=305.17578125\n",
      "itr 2, det = 44.81637954711914, reg=305.17578125\n",
      "itr 3, det = 47.37155532836914, reg=305.17578125\n",
      "itr 4, det = 49.54521179199219, reg=305.17578125\n",
      "itr 5, det = 50.72347640991211, reg=305.17578125\n",
      "itr 6, det = 50.31686782836914, reg=305.17578125\n",
      "itr 7, det = 48.66151809692383, reg=305.17578125\n",
      "itr 8, det = 46.546630859375, reg=305.17578125\n",
      "itr 0, det = 337.7192077636719, reg=1525.87890625\n",
      "itr 1, det = 416.1990051269531, reg=1525.87890625\n",
      "itr 2, det = 419.30413818359375, reg=1525.87890625\n",
      "itr 3, det = 421.1295166015625, reg=1525.87890625\n",
      "itr 4, det = 422.4085998535156, reg=1525.87890625\n",
      "itr 5, det = 420.8837585449219, reg=1525.87890625\n",
      "itr 6, det = 415.00469970703125, reg=1525.87890625\n",
      "itr 7, det = 405.3294372558594, reg=1525.87890625\n",
      "itr 8, det = 394.4670715332031, reg=1525.87890625\n",
      "itr 0, det = 7005.44189453125, reg=7629.39453125\n",
      "itr 1, det = 7407.0087890625, reg=7629.39453125\n",
      "itr 2, det = 7392.74951171875, reg=7629.39453125\n",
      "itr 3, det = 7371.8076171875, reg=7629.39453125\n",
      "itr 4, det = 7332.99267578125, reg=7629.39453125\n",
      "itr 5, det = 7260.38134765625, reg=7629.39453125\n",
      "itr 6, det = 7143.90234375, reg=7629.39453125\n",
      "itr 7, det = 6994.1689453125, reg=7629.39453125\n",
      "itr 8, det = 6843.17919921875, reg=7629.39453125\n",
      "itr 0, det = 168348.078125, reg=38146.97265625\n",
      "itr 1, det = 170135.671875, reg=38146.97265625\n",
      "itr 2, det = 169666.78125, reg=38146.97265625\n",
      "itr 3, det = 168958.59375, reg=38146.97265625\n",
      "itr 4, det = 167820.578125, reg=38146.97265625\n",
      "itr 5, det = 165972.453125, reg=38146.97265625\n",
      "itr 6, det = 163255.375, reg=38146.97265625\n",
      "itr 7, det = 159928.28125, reg=38146.97265625\n",
      "itr 8, det = 156668.59375, reg=38146.97265625\n",
      "itr 0, det = 4.221806049346924, reg=1.0\n",
      "itr 1, det = 4.973084926605225, reg=1.0\n",
      "itr 2, det = 9.236042022705078, reg=1.0\n",
      "itr 3, det = 7.56473970413208, reg=1.0\n",
      "itr 4, det = -90.23790740966797, reg=1.0\n",
      "itr 5, det = 80.11447143554688, reg=1.0\n",
      "itr 6, det = 94.6608657836914, reg=1.0\n",
      "itr 7, det = 51.268768310546875, reg=1.0\n",
      "itr 8, det = 33.73893356323242, reg=1.0\n",
      "Update from  240.75186  to  240.46262 reg:  1.0 alpha: 0.100 0.014\n",
      "itr 0, det = 4.197564125061035, reg=0.5\n",
      "itr 1, det = 4.957406044006348, reg=0.5\n",
      "itr 2, det = 9.198871612548828, reg=0.5\n",
      "itr 3, det = 8.568671226501465, reg=0.5\n",
      "itr 4, det = -55.96561813354492, reg=0.5\n",
      "itr 5, det = 78.28802490234375, reg=0.5\n",
      "itr 6, det = 90.37640380859375, reg=0.5\n",
      "itr 7, det = 50.38646697998047, reg=0.5\n",
      "itr 8, det = 33.41377639770508, reg=0.5\n",
      "itr 0, det = 4.294424057006836, reg=2.5\n",
      "itr 1, det = 5.065247535705566, reg=2.5\n",
      "itr 2, det = 9.348213195800781, reg=2.5\n",
      "itr 3, det = 8.710343360900879, reg=2.5\n",
      "itr 4, det = -56.25738525390625, reg=2.5\n",
      "itr 5, det = 78.86559295654297, reg=2.5\n",
      "itr 6, det = 91.00221252441406, reg=2.5\n",
      "itr 7, det = 50.77754592895508, reg=2.5\n",
      "itr 8, det = 33.7071647644043, reg=2.5\n",
      "itr 0, det = 4.794862270355225, reg=12.5\n",
      "itr 1, det = 5.678537845611572, reg=12.5\n",
      "itr 2, det = 10.221110343933105, reg=12.5\n",
      "itr 3, det = 9.480785369873047, reg=12.5\n",
      "itr 4, det = -57.66453170776367, reg=12.5\n",
      "itr 5, det = 81.95524597167969, reg=12.5\n",
      "itr 6, det = 94.19852447509766, reg=12.5\n",
      "itr 7, det = 52.78311538696289, reg=12.5\n",
      "itr 8, det = 35.221473693847656, reg=12.5\n",
      "itr 0, det = 7.700571060180664, reg=62.5\n",
      "itr 1, det = 10.164042472839355, reg=62.5\n",
      "itr 2, det = 16.512025833129883, reg=62.5\n",
      "itr 3, det = 14.39842700958252, reg=62.5\n",
      "itr 4, det = -62.62617111206055, reg=62.5\n",
      "itr 5, det = 100.1189193725586, reg=62.5\n",
      "itr 6, det = 111.23700714111328, reg=62.5\n",
      "itr 7, det = 63.71135330200195, reg=62.5\n",
      "itr 8, det = 43.65621566772461, reg=62.5\n",
      "itr 0, det = 32.317039489746094, reg=312.5\n",
      "itr 1, det = 51.23520278930664, reg=312.5\n",
      "itr 2, det = 61.52736282348633, reg=312.5\n",
      "itr 3, det = 51.43259811401367, reg=312.5\n",
      "itr 4, det = -53.32293701171875, reg=312.5\n",
      "itr 5, det = 159.17832946777344, reg=312.5\n",
      "itr 6, det = 205.24954223632812, reg=312.5\n",
      "itr 7, det = 131.53810119628906, reg=312.5\n",
      "itr 8, det = 98.24664306640625, reg=312.5\n",
      "itr 0, det = 407.5975341796875, reg=1562.5\n",
      "itr 1, det = 522.611572265625, reg=1562.5\n",
      "itr 2, det = 536.2017211914062, reg=1562.5\n",
      "itr 3, det = 497.665771484375, reg=1562.5\n",
      "itr 4, det = 309.3349914550781, reg=1562.5\n",
      "itr 5, det = -320.6285705566406, reg=1562.5\n",
      "itr 6, det = -125.0952377319336, reg=1562.5\n",
      "itr 7, det = -8431.12890625, reg=1562.5\n",
      "itr 8, det = 761.760986328125, reg=1562.5\n",
      "itr 0, det = 8588.9521484375, reg=7812.5\n",
      "itr 1, det = 9181.96484375, reg=7812.5\n",
      "itr 2, det = 9240.9228515625, reg=7812.5\n",
      "itr 3, det = 9076.076171875, reg=7812.5\n",
      "itr 4, det = 8515.8427734375, reg=7812.5\n",
      "itr 5, det = 8382.5, reg=7812.5\n",
      "itr 6, det = 9980.029296875, reg=7812.5\n",
      "itr 7, det = 10250.0302734375, reg=7812.5\n",
      "itr 8, det = 10174.64453125, reg=7812.5\n",
      "Update from  240.46262  to  231.49574 reg:  7812.5 alpha: 1.000 0.061\n",
      "itr 0, det = 2243.464599609375, reg=3906.25\n",
      "itr 1, det = 2536.93994140625, reg=3906.25\n",
      "itr 2, det = 2565.272705078125, reg=3906.25\n",
      "itr 3, det = 2472.237548828125, reg=3906.25\n",
      "itr 4, det = 2111.142822265625, reg=3906.25\n",
      "itr 5, det = 1768.0284423828125, reg=3906.25\n",
      "itr 6, det = 2074.81884765625, reg=3906.25\n",
      "itr 7, det = 2265.849609375, reg=3906.25\n",
      "itr 8, det = 2385.120361328125, reg=3906.25\n",
      "Update from  231.49574  to  195.87727 reg:  3906.25 alpha: 1.000 0.066\n",
      "itr 0, det = 610.6019287109375, reg=1953.125\n",
      "itr 1, det = 755.080078125, reg=1953.125\n",
      "itr 2, det = 769.5309448242188, reg=1953.125\n",
      "itr 3, det = 694.8876953125, reg=1953.125\n",
      "itr 4, det = 343.7509765625, reg=1953.125\n",
      "itr 5, det = -2205.29541015625, reg=1953.125\n",
      "itr 6, det = 1048.4041748046875, reg=1953.125\n",
      "itr 7, det = 895.521240234375, reg=1953.125\n",
      "itr 8, det = 871.7708129882812, reg=1953.125\n",
      "Update from  195.87727  to  195.7844 reg:  1953.125 alpha: 0.100 0.072\n",
      "itr 0, det = 179.21009826660156, reg=976.5625\n",
      "itr 1, det = 248.9716796875, reg=976.5625\n",
      "itr 2, det = 259.5809326171875, reg=976.5625\n",
      "itr 3, det = 217.7090301513672, reg=976.5625\n",
      "itr 4, det = -46.11211013793945, reg=976.5625\n",
      "itr 5, det = -8905.36328125, reg=976.5625\n",
      "itr 6, det = 550.6112060546875, reg=976.5625\n",
      "itr 7, det = 390.4236145019531, reg=976.5625\n",
      "itr 8, det = 337.37994384765625, reg=976.5625\n",
      "Update from  195.7844  to  193.90561 reg:  976.5625 alpha: 1.000 0.076\n",
      "itr 0, det = 59.6013069152832, reg=488.28125\n",
      "itr 1, det = 91.71392822265625, reg=488.28125\n",
      "itr 2, det = 101.81103515625, reg=488.28125\n",
      "itr 3, det = 74.37667083740234, reg=488.28125\n",
      "itr 4, det = -187.0400848388672, reg=488.28125\n",
      "itr 5, det = 251.29244995117188, reg=488.28125\n",
      "itr 6, det = 283.7972412109375, reg=488.28125\n",
      "itr 7, det = 193.00106811523438, reg=488.28125\n",
      "itr 8, det = 151.58718872070312, reg=488.28125\n",
      "Update from  193.90561  to  188.27768 reg:  488.28125 alpha: 1.000 0.080\n",
      "itr 0, det = 23.861873626708984, reg=244.140625\n",
      "itr 1, det = 37.545936584472656, reg=244.140625\n",
      "itr 2, det = 47.26851272583008, reg=244.140625\n",
      "itr 3, det = 25.205541610717773, reg=244.140625\n",
      "itr 4, det = -416.72442626953125, reg=244.140625\n",
      "itr 5, det = 172.2543487548828, reg=244.140625\n",
      "itr 6, det = 194.71044921875, reg=244.140625\n",
      "itr 7, det = 115.00720977783203, reg=244.140625\n",
      "itr 8, det = 83.8427505493164, reg=244.140625\n",
      "Update from  188.27768  to  188.19531 reg:  244.140625 alpha: 0.100 0.086\n",
      "itr 0, det = 12.018548965454102, reg=122.0703125\n",
      "itr 1, det = 17.509017944335938, reg=122.0703125\n",
      "itr 2, det = 25.40837287902832, reg=122.0703125\n",
      "itr 3, det = 10.186970710754395, reg=122.0703125\n",
      "itr 4, det = -589.4953002929688, reg=122.0703125\n",
      "itr 5, det = 124.43563842773438, reg=122.0703125\n",
      "itr 6, det = 148.56700134277344, reg=122.0703125\n",
      "itr 7, det = 82.350830078125, reg=122.0703125\n",
      "itr 8, det = 56.93764114379883, reg=122.0703125\n",
      "Update from  188.19531  to  188.0878 reg:  122.0703125 alpha: 0.100 0.092\n",
      "itr 0, det = 7.595437049865723, reg=61.03515625\n",
      "itr 1, det = 9.90392017364502, reg=61.03515625\n",
      "itr 2, det = 15.95083236694336, reg=61.03515625\n",
      "itr 3, det = 4.513659954071045, reg=61.03515625\n",
      "itr 4, det = -906.8993530273438, reg=61.03515625\n",
      "itr 5, det = 102.97847747802734, reg=61.03515625\n",
      "itr 6, det = 127.90692138671875, reg=61.03515625\n",
      "itr 7, det = 67.81388092041016, reg=61.03515625\n",
      "itr 8, det = 45.255699157714844, reg=61.03515625\n",
      "itr 0, det = 31.26566505432129, reg=305.17578125\n",
      "itr 1, det = 49.41630554199219, reg=305.17578125\n",
      "itr 2, det = 59.58205032348633, reg=305.17578125\n",
      "itr 3, det = 31.99739646911621, reg=305.17578125\n",
      "itr 4, det = -473.91986083984375, reg=305.17578125\n",
      "itr 5, det = 198.92076110839844, reg=305.17578125\n",
      "itr 6, det = 225.0213165283203, reg=305.17578125\n",
      "itr 7, det = 133.8038330078125, reg=305.17578125\n",
      "itr 8, det = 99.1646499633789, reg=305.17578125\n",
      "itr 0, det = 389.1109313964844, reg=1525.87890625\n",
      "itr 1, det = 501.0594482421875, reg=1525.87890625\n",
      "itr 2, det = 516.2149658203125, reg=1525.87890625\n",
      "itr 3, det = 428.96112060546875, reg=1525.87890625\n",
      "itr 4, det = -96.65929412841797, reg=1525.87890625\n",
      "itr 5, det = -17548.04296875, reg=1525.87890625\n",
      "itr 6, det = 966.449951171875, reg=1525.87890625\n",
      "itr 7, det = 716.6714477539062, reg=1525.87890625\n",
      "itr 8, det = 638.0990600585938, reg=1525.87890625\n",
      "Update from  188.0878  to  188.08743 reg:  1525.87890625 alpha: 0.100 0.114\n",
      "itr 0, det = 118.67581176757812, reg=762.939453125\n",
      "itr 1, det = 171.9074249267578, reg=762.939453125\n",
      "itr 2, det = 183.36898803710938, reg=762.939453125\n",
      "itr 3, det = 132.0799560546875, reg=762.939453125\n",
      "itr 4, det = -327.592041015625, reg=762.939453125\n",
      "itr 5, det = 348.4068908691406, reg=762.939453125\n",
      "itr 6, det = 445.5121765136719, reg=762.939453125\n",
      "itr 7, det = 309.63482666015625, reg=762.939453125\n",
      "itr 8, det = 251.10841369628906, reg=762.939453125\n",
      "itr 0, det = 2135.806640625, reg=3814.697265625\n",
      "itr 1, det = 2424.618896484375, reg=3814.697265625\n",
      "itr 2, det = 2461.921875, reg=3814.697265625\n",
      "itr 3, det = 2276.93505859375, reg=3814.697265625\n",
      "itr 4, det = 1476.5296630859375, reg=3814.697265625\n",
      "itr 5, det = -1344.269287109375, reg=3814.697265625\n",
      "itr 6, det = -6078.6640625, reg=3814.697265625\n",
      "itr 7, det = 1948.101806640625, reg=3814.697265625\n",
      "itr 8, det = 934.2135009765625, reg=3814.697265625\n",
      "Update from  188.08743  to  187.46066 reg:  3814.697265625 alpha: 0.100 0.129\n",
      "itr 0, det = 582.6978149414062, reg=1907.3486328125\n",
      "itr 1, det = 723.8309326171875, reg=1907.3486328125\n",
      "itr 2, det = 741.7332153320312, reg=1907.3486328125\n",
      "itr 3, det = 644.0694580078125, reg=1907.3486328125\n",
      "itr 4, det = 126.38655090332031, reg=1907.3486328125\n",
      "itr 5, det = -26108.3984375, reg=1907.3486328125\n",
      "itr 6, det = 1275.027099609375, reg=1907.3486328125\n",
      "itr 7, det = 990.32958984375, reg=1907.3486328125\n",
      "itr 8, det = 899.7265014648438, reg=1907.3486328125\n",
      "Update from  187.46066  to  187.39847 reg:  1907.3486328125 alpha: 0.100 0.136\n",
      "itr 0, det = 171.63946533203125, reg=953.67431640625\n",
      "itr 1, det = 239.50856018066406, reg=953.67431640625\n",
      "itr 2, det = 251.5752716064453, reg=953.67431640625\n",
      "itr 3, det = 194.47344970703125, reg=953.67431640625\n",
      "itr 4, det = -234.2484130859375, reg=953.67431640625\n",
      "itr 5, det = 148.05995178222656, reg=953.67431640625\n",
      "itr 6, det = 120.88629150390625, reg=953.67431640625\n",
      "itr 7, det = 220.6292266845703, reg=953.67431640625\n",
      "itr 8, det = 344.3814392089844, reg=953.67431640625\n",
      "itr 0, det = 3277.249267578125, reg=4768.37158203125\n",
      "itr 1, det = 3640.4619140625, reg=4768.37158203125\n",
      "itr 2, det = 3690.92822265625, reg=4768.37158203125\n",
      "itr 3, det = 3481.18505859375, reg=4768.37158203125\n",
      "itr 4, det = 2620.456787109375, reg=4768.37158203125\n",
      "itr 5, det = 785.3790893554688, reg=4768.37158203125\n",
      "itr 6, det = -46373.171875, reg=4768.37158203125\n",
      "itr 7, det = 4145.2666015625, reg=4768.37158203125\n",
      "itr 8, det = 3786.793701171875, reg=4768.37158203125\n",
      "itr 0, det = 77263.1015625, reg=23841.857421875\n",
      "itr 1, det = 79266.0390625, reg=23841.857421875\n",
      "itr 2, det = 79906.8359375, reg=23841.857421875\n",
      "itr 3, det = 79370.328125, reg=23841.857421875\n",
      "itr 4, det = 76115.15625, reg=23841.857421875\n",
      "itr 5, det = 74261.5, reg=23841.857421875\n",
      "itr 6, det = 78160.65625, reg=23841.857421875\n",
      "itr 7, det = 78896.2890625, reg=23841.857421875\n",
      "itr 8, det = 79344.2890625, reg=23841.857421875\n",
      "Update from  187.39847  to  184.7263 reg:  23841.85791015625 alpha: 1.000 0.156\n",
      "itr 0, det = 19603.46875, reg=11920.9287109375\n",
      "itr 1, det = 20548.447265625, reg=11920.9287109375\n",
      "itr 2, det = 20748.833984375, reg=11920.9287109375\n",
      "itr 3, det = 20282.623046875, reg=11920.9287109375\n",
      "itr 4, det = 18390.6953125, reg=11920.9287109375\n",
      "itr 5, det = 16776.28515625, reg=11920.9287109375\n",
      "itr 6, det = 17621.041015625, reg=11920.9287109375\n",
      "itr 7, det = 17071.31640625, reg=11920.9287109375\n",
      "itr 8, det = 15843.806640625, reg=11920.9287109375\n",
      "Update from  184.7263  to  174.56213 reg:  11920.928955078125 alpha: 1.000 0.161\n",
      "itr 0, det = 5046.10205078125, reg=5960.46435546875\n",
      "itr 1, det = 5503.689453125, reg=5960.46435546875\n",
      "itr 2, det = 5572.25146484375, reg=5960.46435546875\n",
      "itr 3, det = 4989.67431640625, reg=5960.46435546875\n",
      "itr 4, det = 2652.7431640625, reg=5960.46435546875\n",
      "itr 5, det = -12520.3056640625, reg=5960.46435546875\n",
      "itr 6, det = 4128.43359375, reg=5960.46435546875\n",
      "itr 7, det = 1705.1656494140625, reg=5960.46435546875\n",
      "itr 8, det = -32607.927734375, reg=5960.46435546875\n",
      "itr 0, det = 120342.953125, reg=29802.322265625\n",
      "itr 1, det = 122931.6328125, reg=29802.322265625\n",
      "itr 2, det = 123960.484375, reg=29802.322265625\n",
      "itr 3, det = 121960.078125, reg=29802.322265625\n",
      "itr 4, det = 113840.0625, reg=29802.322265625\n",
      "itr 5, det = 107286.5078125, reg=29802.322265625\n",
      "itr 6, det = 108249.9453125, reg=29802.322265625\n",
      "itr 7, det = 104585.71875, reg=29802.322265625\n",
      "itr 8, det = 97931.6328125, reg=29802.322265625\n",
      "Update from  174.56213  to  173.27426 reg:  29802.322387695312 alpha: 1.000 0.171\n",
      "itr 0, det = 30445.083984375, reg=14901.1611328125\n",
      "itr 1, det = 31648.0703125, reg=14901.1611328125\n",
      "itr 2, det = 31952.779296875, reg=14901.1611328125\n",
      "itr 3, det = 30419.78515625, reg=14901.1611328125\n",
      "itr 4, det = 25048.26953125, reg=14901.1611328125\n",
      "itr 5, det = 16284.8994140625, reg=14901.1611328125\n",
      "itr 6, det = -23001.765625, reg=14901.1611328125\n",
      "itr 7, det = -65202.19921875, reg=14901.1611328125\n",
      "itr 8, det = 12239.3583984375, reg=14901.1611328125\n",
      "Update from  173.27426  to  173.0433 reg:  14901.161193847656 alpha: 1.000 0.176\n",
      "itr 0, det = 7792.46533203125, reg=7450.58056640625\n",
      "itr 1, det = 8370.2529296875, reg=7450.58056640625\n",
      "itr 2, det = 8469.21484375, reg=7450.58056640625\n",
      "itr 3, det = 7613.15283203125, reg=7450.58056640625\n",
      "itr 4, det = 4267.1669921875, reg=7450.58056640625\n",
      "itr 5, det = -14955.0458984375, reg=7450.58056640625\n",
      "itr 6, det = 3737.02197265625, reg=7450.58056640625\n",
      "itr 7, det = -20739.115234375, reg=7450.58056640625\n",
      "itr 8, det = 5606.71240234375, reg=7450.58056640625\n",
      "itr 0, det = 187574.953125, reg=37252.90234375\n",
      "itr 1, det = 190944.234375, reg=37252.90234375\n",
      "itr 2, det = 192551.359375, reg=37252.90234375\n",
      "itr 3, det = 189669.28125, reg=37252.90234375\n",
      "itr 4, det = 177674.0, reg=37252.90234375\n",
      "itr 5, det = 167900.609375, reg=37252.90234375\n",
      "itr 6, det = 167829.5, reg=37252.90234375\n",
      "itr 7, det = 161389.203125, reg=37252.90234375\n",
      "itr 8, det = 150144.578125, reg=37252.90234375\n",
      "Update from  173.0433  to  172.24225 reg:  37252.90298461914 alpha: 1.000 0.187\n",
      "itr 0, det = 47342.23828125, reg=18626.451171875\n",
      "itr 1, det = 48879.52734375, reg=18626.451171875\n",
      "itr 2, det = 49340.97265625, reg=18626.451171875\n",
      "itr 3, det = 47180.41796875, reg=18626.451171875\n",
      "itr 4, det = 39644.65234375, reg=18626.451171875\n",
      "itr 5, det = 28294.478515625, reg=18626.451171875\n",
      "itr 6, det = -9648.3330078125, reg=18626.451171875\n",
      "itr 7, det = -1433623.375, reg=18626.451171875\n",
      "itr 8, det = 50822.29296875, reg=18626.451171875\n",
      "itr 0, det = 1165614.375, reg=93132.2578125\n",
      "itr 1, det = 1176298.5, reg=93132.2578125\n",
      "itr 2, det = 1185620.375, reg=93132.2578125\n",
      "itr 3, det = 1182558.375, reg=93132.2578125\n",
      "itr 4, det = 1148675.625, reg=93132.2578125\n",
      "itr 5, det = 1123761.25, reg=93132.2578125\n",
      "itr 6, det = 1131739.375, reg=93132.2578125\n",
      "itr 7, det = 1131316.125, reg=93132.2578125\n",
      "itr 8, det = 1132128.875, reg=93132.2578125\n",
      "Update from  172.24225  to  172.08923 reg:  93132.25746154785 alpha: 1.000 0.199\n",
      "itr 0, det = 292520.34375, reg=46566.12890625\n",
      "itr 1, det = 296929.46875, reg=46566.12890625\n",
      "itr 2, det = 299406.59375, reg=46566.12890625\n",
      "itr 3, det = 295323.5, reg=46566.12890625\n",
      "itr 4, det = 277818.375, reg=46566.12890625\n",
      "itr 5, det = 263522.375, reg=46566.12890625\n",
      "itr 6, det = 262240.09375, reg=46566.12890625\n",
      "itr 7, det = 252692.625, reg=46566.12890625\n",
      "itr 8, det = 236659.78125, reg=46566.12890625\n",
      "Update from  172.08923  to  171.58815 reg:  46566.128730773926 alpha: 1.000 0.203\n",
      "itr 0, det = 73690.0078125, reg=23283.064453125\n",
      "itr 1, det = 75661.1328125, reg=23283.064453125\n",
      "itr 2, det = 76354.53125, reg=23283.064453125\n",
      "itr 3, det = 73333.4296875, reg=23283.064453125\n",
      "itr 4, det = 62813.25390625, reg=23283.064453125\n",
      "itr 5, det = 48178.484375, reg=23283.064453125\n",
      "itr 6, det = 10723.6201171875, reg=23283.064453125\n",
      "itr 7, det = -3199268.25, reg=23283.064453125\n",
      "itr 8, det = 78714.0546875, reg=23283.064453125\n",
      "2\n",
      "0.21220016479492188\n"
     ]
    },
    {
     "data": {
      "image/png": "[encoded data removed]",
      "text/plain": [
       "<Figure size 640x480 with 1 Axes>"
      ]
     },
     "metadata": {},
     "output_type": "display_data"
    },
    {
     "data": {
      "image/png": "[encoded data removed]",
      "text/plain": [
       "<Figure size 640x480 with 1 Axes>"
      ]
     },
     "metadata": {},
     "output_type": "display_data"
    },
    {
     "data": {
      "image/png": "[encoded data removed]",
      "text/plain": [
       "<Figure size 640x480 with 1 Axes>"
      ]
     },
     "metadata": {},
     "output_type": "display_data"
    },
    {
     "data": {
      "image/png": "[encoded data removed]",
      "text/plain": [
       "<Figure size 640x480 with 1 Axes>"
      ]
     },
     "metadata": {},
     "output_type": "display_data"
    }
   ],
   "source": [
    "centerline = load_path('outerloop_center_smooth.csv')\n",
    "path = Path(centerline, 0.6, 0.6, loop=True)\n",
    "config_file = '/hdd/Git_Repo/PrincetonRaceCar/ROS_Core/src/Planning/ilqr_planning_ros/configs/ilqr.yaml'\n",
    "solver = iLQR()#config_file)\n",
    "# # make some obstacles\n",
    "# obs1 = np.array([[-1, -1, -0, -0], [5.2, 6.0, 6.0, 5.2]]).T\n",
    "obs1 = np.array([[-1, -1, -0.5, -0.5], [5.2, 5.9, 5.9, 5.2]]).T\n",
    "obs2 = np.array([[1, 1, 1.5, 1.5], [-0.2, 0.5, 0.5, -0.2]]).T\n",
    "obs_list = [[obs1 for _ in range(10)]]#, [obs2 for _ in range(10)]]\n",
    "solver.update_obstacles(obs_list)\n",
    "solver.update_path(path)\n",
    "\n",
    "x_cur = np.array([1, 5.4, 3, 3.14, 0])\n",
    "plan = solver.plan(x_cur)\n",
    "\n",
    "path.plot_track()\n",
    "path.plot_track_center()\n",
    "plt.plot(plan['states'][0, :], plan['states'][1, :], 'r-*', linewidth=2)\n",
    "\n",
    "p = Polygon(obs1, facecolor = 'k')\n",
    "plt.gca().add_patch(p)\n",
    "plt.axis('equal')\n",
    "\n",
    "p = Polygon(obs2, facecolor = 'k')\n",
    "plt.gca().add_patch(p)\n",
    "plt.axis('equal')\n",
    "\n",
    "print(plan['status'])\n",
    "\n",
    "plt.figure()\n",
    "a = plan['states'][2, :] \n",
    "plt.plot(a)\n",
    "plt.title('Velocity')\n",
    "\n",
    "plt.figure()\n",
    "# plt.plot(plan['controls'][0,:])\n",
    "plt.plot(plan['states'][-1,:], '--')\n",
    "plt.title('Steering')\n",
    "\n",
    "plt.figure()\n",
    "a = plan['states'][2, :]**2 / 0.257 * np.tan(plan['states'][-1, :])\n",
    "plt.plot(a)\n",
    "plt.title('Lateral Acceleration')\n",
    "\n",
    "print(plan['t_process'])\n"
   ]
  },
  {
   "cell_type": "code",
   "execution_count": 233,
   "metadata": {},
   "outputs": [
    {
     "name": "stdout",
     "output_type": "stream",
     "text": [
      "Update from  188.21582  to  187.80138 reg:  1.0 alpha: 1.000 2.955\n",
      "Update from  187.80138  to  163.80869 reg:  0.5 alpha: 0.100 2.960\n",
      "Update from  163.80869  to  131.84755 reg:  0.25 alpha: 1.000 2.964\n",
      "Update from  131.84755  to  125.74664 reg:  0.125 alpha: 0.100 2.969\n",
      "Update from  125.74664  to  122.06799 reg:  0.0625 alpha: 0.100 2.974\n",
      "Update from  122.06799  to  119.6273 reg:  0.03125 alpha: 0.100 2.979\n",
      "Update from  119.6273  to  115.25689 reg:  0.015625 alpha: 0.100 2.985\n",
      "Update from  115.25689  to  103.01703 reg:  0.0078125 alpha: 1.000 2.988\n",
      "Update from  103.01703  to  99.6135 reg:  0.00390625 alpha: 1.000 2.991\n",
      "Update from  99.6135  to  98.99544 reg:  0.001953125 alpha: 1.000 2.995\n",
      "Update from  98.99544  to  98.90854 reg:  0.001 alpha: 1.000 2.998\n"
     ]
    },
    {
     "name": "stderr",
     "output_type": "stream",
     "text": [
      "iLQR takes : 0.11 sec']:   0%|          | 0/100 [00:00<?, ?it/s]"
     ]
    },
    {
     "name": "stdout",
     "output_type": "stream",
     "text": [
      "Update from  90.34918  to  72.688675 reg:  3125.0 alpha: 1.000 0.079\n",
      "Update from  72.688675  to  62.12358 reg:  1562.5 alpha: 1.000 0.085\n",
      "Update from  62.12358  to  57.368973 reg:  781.25 alpha: 1.000 0.091\n",
      "Update from  57.368973  to  54.20983 reg:  390.625 alpha: 1.000 0.098\n",
      "Update from  54.20983  to  50.342506 reg:  195.3125 alpha: 1.000 0.104\n",
      "Update from  50.342506  to  50.319733 reg:  97.65625 alpha: 1.000 0.110\n"
     ]
    },
    {
     "name": "stderr",
     "output_type": "stream",
     "text": [
      "iLQR takes : 0.08 sec']:   1%|          | 1/100 [00:00<00:26,  3.73it/s]"
     ]
    },
    {
     "name": "stdout",
     "output_type": "stream",
     "text": [
      "Update from  65.02818  to  60.71517 reg:  1.0 alpha: 0.100 0.015\n",
      "Update from  60.71517  to  56.882706 reg:  0.5 alpha: 1.000 0.022\n",
      "Update from  56.882706  to  56.771873 reg:  31.25 alpha: 0.010 0.074\n",
      "Update from  56.771873  to  56.75731 reg:  15.625 alpha: 0.100 0.084\n"
     ]
    },
    {
     "name": "stderr",
     "output_type": "stream",
     "text": [
      "iLQR takes : 0.06 sec']:   2%|▏         | 2/100 [00:00<00:25,  3.85it/s]"
     ]
    },
    {
     "name": "stdout",
     "output_type": "stream",
     "text": [
      "Update from  71.16217  to  71.007675 reg:  1.0 alpha: 0.100 0.016\n",
      "Update from  71.007675  to  70.88539 reg:  0.5 alpha: 0.100 0.028\n",
      "Update from  70.88539  to  70.73982 reg:  0.25 alpha: 0.100 0.039\n",
      "Update from  70.73982  to  70.635025 reg:  0.125 alpha: 0.100 0.049\n",
      "Update from  70.635025  to  70.55155 reg:  0.0625 alpha: 0.100 0.059\n"
     ]
    },
    {
     "name": "stderr",
     "output_type": "stream",
     "text": [
      "iLQR takes : 0.03 sec']:   4%|▍         | 4/100 [00:00<00:22,  4.36it/s]"
     ]
    },
    {
     "name": "stdout",
     "output_type": "stream",
     "text": [
      "Update from  88.355034  to  83.99603 reg:  1.0 alpha: 0.100 0.016\n",
      "Update from  83.99603  to  83.98938 reg:  0.5 alpha: 0.010 0.032\n"
     ]
    },
    {
     "name": "stderr",
     "output_type": "stream",
     "text": [
      "iLQR takes : 0.10 sec']:   4%|▍         | 4/100 [00:01<00:22,  4.36it/s]"
     ]
    },
    {
     "name": "stdout",
     "output_type": "stream",
     "text": [
      "Update from  98.34898  to  90.62932 reg:  125.0 alpha: 1.000 0.051\n",
      "Update from  90.62932  to  90.5206 reg:  62.5 alpha: 0.100 0.062\n",
      "Update from  90.5206  to  81.03743 reg:  156.25 alpha: 1.000 0.080\n",
      "Update from  81.03743  to  80.656784 reg:  78.125 alpha: 0.100 0.091\n",
      "Update from  80.656784  to  80.629265 reg:  39.0625 alpha: 0.100 0.101\n"
     ]
    },
    {
     "name": "stderr",
     "output_type": "stream",
     "text": [
      "iLQR takes : 0.02 sec']:   6%|▌         | 6/100 [00:01<00:21,  4.39it/s]"
     ]
    },
    {
     "name": "stdout",
     "output_type": "stream",
     "text": [
      "Update from  84.35989  to  84.34508 reg:  1.0 alpha: 0.010 0.021\n",
      "Update from  94.39687  to  90.01958 reg:  25.0 alpha: 0.100 0.041\n",
      "Update from  90.01958  to  86.334305 reg:  12.5 alpha: 0.100 0.051\n",
      "Update from  86.334305  to  82.27577 reg:  6.25 alpha: 0.100 0.062\n",
      "Update from  82.27577  to  79.23245 reg:  3.125 alpha: 0.100 0.073\n",
      "Update from  79.23245  to  78.72853 reg:  1.5625 alpha: 0.010 0.088\n",
      "Update from  78.72853  to  78.34129 reg:  0.78125 alpha: 0.010 0.103\n",
      "Update from  78.34129  to  78.16461 reg:  0.390625 alpha: 0.010 0.117\n",
      "Update from  78.16461  to  76.15628 reg:  0.1953125 alpha: 0.100 0.128\n",
      "Update from  76.15628  to  74.930695 reg:  0.09765625 alpha: 0.010 0.142\n",
      "Update from  74.930695  to  73.272354 reg:  0.048828125 alpha: 0.100 0.153\n",
      "Update from  73.272354  to  71.98203 reg:  0.0244140625 alpha: 0.100 0.163\n",
      "Update from  71.98203  to  71.129715 reg:  0.01220703125 alpha: 0.100 0.173\n",
      "Update from  71.129715  to  70.51898 reg:  0.006103515625 alpha: 0.100 0.183\n",
      "Update from  70.51898  to  70.326126 reg:  0.0030517578125 alpha: 1.000 0.190\n"
     ]
    },
    {
     "name": "stderr",
     "output_type": "stream",
     "text": [
      "iLQR takes : 0.28 sec']:   7%|▋         | 7/100 [00:01<00:28,  3.30it/s]"
     ]
    },
    {
     "name": "stdout",
     "output_type": "stream",
     "text": [
      "Update from  70.326126  to  70.154854 reg:  23.84185791015625 alpha: 0.100 0.273\n",
      "Update from  70.154854  to  70.112305 reg:  11.920928955078125 alpha: 0.100 0.284\n",
      "Update from  65.492966  to  64.41768 reg:  1.0 alpha: 1.000 0.011\n"
     ]
    },
    {
     "name": "stderr",
     "output_type": "stream",
     "text": [
      "iLQR takes : 0.01 sec']:   8%|▊         | 8/100 [00:02<00:25,  3.68it/s]"
     ]
    },
    {
     "name": "stdout",
     "output_type": "stream",
     "text": [
      "Update from  64.41768  to  64.28282 reg:  0.5 alpha: 0.100 0.023\n",
      "Update from  64.28282  to  64.20184 reg:  0.25 alpha: 0.100 0.034\n",
      "Update from  57.315773  to  57.21737 reg:  1.0 alpha: 1.000 0.011\n"
     ]
    },
    {
     "name": "stderr",
     "output_type": "stream",
     "text": [
      "iLQR takes : 0.01 sec']:  10%|█         | 10/100 [00:02<00:20,  4.32it/s]"
     ]
    },
    {
     "name": "stdout",
     "output_type": "stream",
     "text": [
      "Update from  46.579144  to  46.46444 reg:  1.0 alpha: 1.000 0.012\n",
      "Update from  46.46444  to  46.463455 reg:  0.5 alpha: 1.000 0.019\n",
      "Update from  35.072372  to  35.06917 reg:  1.0 alpha: 1.000 0.012\n"
     ]
    },
    {
     "name": "stderr",
     "output_type": "stream",
     "text": [
      "iLQR takes : 0.03 sec']:  12%|█▏        | 12/100 [00:02<00:18,  4.66it/s]"
     ]
    },
    {
     "name": "stdout",
     "output_type": "stream",
     "text": [
      "Update from  22.711384  to  22.12661 reg:  1.0 alpha: 1.000 0.012\n",
      "Update from  22.12661  to  22.00787 reg:  0.5 alpha: 1.000 0.019\n",
      "Update from  22.00787  to  22.007534 reg:  0.25 alpha: 1.000 0.025\n"
     ]
    },
    {
     "name": "stderr",
     "output_type": "stream",
     "text": [
      "iLQR takes : 0.02 sec']:  13%|█▎        | 13/100 [00:03<00:18,  4.78it/s]"
     ]
    },
    {
     "name": "stdout",
     "output_type": "stream",
     "text": [
      "Update from  9.010822  to  7.795572 reg:  1.0 alpha: 1.000 0.012\n",
      "Update from  7.795572  to  7.7937527 reg:  0.5 alpha: 1.000 0.018\n",
      "Update from  1.7789242  to  1.1481943 reg:  1.0 alpha: 1.000 0.012\n"
     ]
    },
    {
     "name": "stderr",
     "output_type": "stream",
     "text": [
      "iLQR takes : 0.01 sec']:  14%|█▍        | 14/100 [00:03<00:17,  4.88it/s]"
     ]
    },
    {
     "name": "stdout",
     "output_type": "stream",
     "text": [
      "Update from  1.1481943  to  1.147116 reg:  0.5 alpha: 1.000 0.021\n",
      "Update from  -0.3331791  to  -0.3845213 reg:  1.0 alpha: 1.000 0.011\n"
     ]
    },
    {
     "name": "stderr",
     "output_type": "stream",
     "text": [
      "iLQR takes : 0.02 sec']:  16%|█▌        | 16/100 [00:03<00:16,  5.02it/s]"
     ]
    },
    {
     "name": "stdout",
     "output_type": "stream",
     "text": [
      "Update from  -1.3864627  to  -1.3918492 reg:  1.0 alpha: 0.100 0.017\n",
      "Update from  -2.0212789  to  -2.1837974 reg:  1.0 alpha: 1.000 0.011\n",
      "Update from  -2.1837974  to  -2.184147 reg:  0.5 alpha: 1.000 0.018\n"
     ]
    },
    {
     "name": "stderr",
     "output_type": "stream",
     "text": [
      "iLQR takes : 0.01 sec']:  18%|█▊        | 18/100 [00:04<00:20,  3.98it/s]"
     ]
    },
    {
     "name": "stdout",
     "output_type": "stream",
     "text": [
      "Update from  -3.066006  to  -3.0975823 reg:  1.0 alpha: 1.000 0.011\n"
     ]
    },
    {
     "name": "stderr",
     "output_type": "stream",
     "text": [
      "iLQR takes : 0.02 sec']:  19%|█▉        | 19/100 [00:04<00:19,  4.21it/s]"
     ]
    },
    {
     "name": "stdout",
     "output_type": "stream",
     "text": [
      "Update from  -4.132807  to  -4.1339693 reg:  1.0 alpha: 0.010 0.023\n",
      "Update from  -4.278689  to  -4.7883844 reg:  1.0 alpha: 1.000 0.012\n"
     ]
    },
    {
     "name": "stderr",
     "output_type": "stream",
     "text": [
      "iLQR takes : 0.02 sec']:  20%|██        | 20/100 [00:04<00:18,  4.42it/s]"
     ]
    },
    {
     "name": "stdout",
     "output_type": "stream",
     "text": [
      "Update from  -4.7883844  to  -4.7884703 reg:  0.5 alpha: 0.100 0.023\n",
      "Update from  -4.572225  to  -4.9673657 reg:  1.0 alpha: 1.000 0.011\n",
      "Update from  -4.9673657  to  -4.9674177 reg:  0.5 alpha: 0.100 0.023\n"
     ]
    },
    {
     "name": "stderr",
     "output_type": "stream",
     "text": [
      "iLQR takes : 0.02 sec']:  22%|██▏       | 22/100 [00:05<00:16,  4.73it/s]"
     ]
    },
    {
     "name": "stdout",
     "output_type": "stream",
     "text": [
      "Update from  -4.3747444  to  -4.8791146 reg:  1.0 alpha: 1.000 0.012\n",
      "Update from  -4.8791146  to  -4.8792167 reg:  0.5 alpha: 0.100 0.023\n",
      "Update from  -4.4247527  to  -4.5770726 reg:  1.0 alpha: 1.000 0.011\n"
     ]
    },
    {
     "name": "stderr",
     "output_type": "stream",
     "text": [
      "iLQR takes : 0.02 sec']:  23%|██▎       | 23/100 [00:05<00:16,  4.76it/s]"
     ]
    },
    {
     "name": "stdout",
     "output_type": "stream",
     "text": [
      "Update from  -4.5770726  to  -4.6550655 reg:  0.5 alpha: 1.000 0.019\n",
      "Update from  -4.046717  to  -4.3465047 reg:  1.0 alpha: 1.000 0.011\n"
     ]
    },
    {
     "name": "stderr",
     "output_type": "stream",
     "text": [
      "iLQR takes : 0.02 sec']:  24%|██▍       | 24/100 [00:05<00:15,  4.87it/s]"
     ]
    },
    {
     "name": "stdout",
     "output_type": "stream",
     "text": [
      "Update from  -4.3465047  to  -4.357016 reg:  0.5 alpha: 1.000 0.019\n",
      "Update from  -3.0267131  to  -3.5947526 reg:  1.0 alpha: 1.000 0.011\n",
      "Update from  -3.5947526  to  -3.5992277 reg:  0.5 alpha: 1.000 0.020\n"
     ]
    },
    {
     "name": "stderr",
     "output_type": "stream",
     "text": [
      "iLQR takes : 0.04 sec']:  26%|██▌       | 26/100 [00:05<00:15,  4.86it/s]"
     ]
    },
    {
     "name": "stdout",
     "output_type": "stream",
     "text": [
      "Update from  2.3663425  to  -0.32437158 reg:  1.0 alpha: 1.000 0.012\n",
      "Update from  -0.32437158  to  -0.5150361 reg:  0.5 alpha: 0.010 0.029\n",
      "Update from  -0.5150361  to  -0.5874181 reg:  0.25 alpha: 0.100 0.041\n"
     ]
    },
    {
     "name": "stderr",
     "output_type": "stream",
     "text": [
      "iLQR takes : 0.13 sec']:  26%|██▌       | 26/100 [00:06<00:15,  4.86it/s]"
     ]
    },
    {
     "name": "stdout",
     "output_type": "stream",
     "text": [
      "Update from  25.953037  to  14.695229 reg:  1.0 alpha: 0.100 0.017\n",
      "Update from  14.695229  to  7.7092323 reg:  0.5 alpha: 1.000 0.024\n",
      "Update from  7.7092323  to  6.7658854 reg:  0.25 alpha: 1.000 0.034\n",
      "Update from  6.7658854  to  6.67719 reg:  1953.125 alpha: 1.000 0.126\n"
     ]
    },
    {
     "name": "stderr",
     "output_type": "stream",
     "text": [
      "iLQR takes : 0.02 sec']:  28%|██▊       | 28/100 [00:06<00:16,  4.50it/s]"
     ]
    },
    {
     "name": "stdout",
     "output_type": "stream",
     "text": [
      "Update from  20.158566  to  14.809221 reg:  1.0 alpha: 1.000 0.011\n",
      "Update from  14.809221  to  14.760567 reg:  0.5 alpha: 1.000 0.019\n",
      "Update from  23.906166  to  23.885448 reg:  1.0 alpha: 0.100 0.016\n"
     ]
    },
    {
     "name": "stderr",
     "output_type": "stream",
     "text": [
      "iLQR takes : 0.10 sec']:  29%|██▉       | 29/100 [00:06<00:15,  4.70it/s]"
     ]
    },
    {
     "name": "stdout",
     "output_type": "stream",
     "text": [
      "Update from  40.621918  to  40.058105 reg:  1.0 alpha: 1.000 0.011\n",
      "Update from  40.058105  to  38.760544 reg:  62.5 alpha: 0.100 0.060\n",
      "Update from  38.760544  to  37.803413 reg:  156.25 alpha: 1.000 0.079\n",
      "Update from  37.803413  to  37.49571 reg:  78.125 alpha: 1.000 0.085\n",
      "Update from  37.49571  to  37.49129 reg:  39.0625 alpha: 0.010 0.099\n"
     ]
    },
    {
     "name": "stderr",
     "output_type": "stream",
     "text": [
      "iLQR takes : 0.12 sec']:  30%|███       | 30/100 [00:06<00:16,  4.33it/s]"
     ]
    },
    {
     "name": "stdout",
     "output_type": "stream",
     "text": [
      "Update from  67.384514  to  56.694595 reg:  1.0 alpha: 0.100 0.016\n",
      "Update from  56.694595  to  51.16234 reg:  0.5 alpha: 0.100 0.027\n",
      "Update from  51.16234  to  50.52867 reg:  156.25 alpha: 0.100 0.087\n",
      "Update from  50.52867  to  50.224976 reg:  78.125 alpha: 0.010 0.101\n",
      "Update from  50.224976  to  50.21996 reg:  39.0625 alpha: 0.010 0.115\n"
     ]
    },
    {
     "name": "stderr",
     "output_type": "stream",
     "text": [
      "iLQR takes : 0.12 sec']:  31%|███       | 31/100 [00:07<00:17,  4.03it/s]"
     ]
    },
    {
     "name": "stdout",
     "output_type": "stream",
     "text": [
      "Update from  77.242485  to  69.68586 reg:  1.0 alpha: 0.100 0.016\n",
      "Update from  69.68586  to  66.9601 reg:  0.5 alpha: 0.100 0.033\n",
      "Update from  66.9601  to  61.07502 reg:  156.25 alpha: 1.000 0.093\n",
      "Update from  61.07502  to  60.25374 reg:  78.125 alpha: 0.010 0.107\n",
      "Update from  60.25374  to  60.112434 reg:  39.0625 alpha: 0.010 0.121\n",
      "Update from  60.112434  to  57.85065 reg:  97.65625 alpha: 0.100 0.143\n",
      "Update from  57.85065  to  53.386745 reg:  244.140625 alpha: 1.000 0.161\n",
      "Update from  53.386745  to  52.37112 reg:  122.0703125 alpha: 0.100 0.171\n",
      "Update from  52.37112  to  52.01652 reg:  61.03515625 alpha: 0.100 0.182\n",
      "Update from  52.01652  to  49.317165 reg:  152.587890625 alpha: 1.000 0.200\n",
      "Update from  49.317165  to  44.51052 reg:  76.2939453125 alpha: 1.000 0.206\n",
      "Update from  44.51052  to  44.395958 reg:  38.14697265625 alpha: 0.100 0.216\n"
     ]
    },
    {
     "name": "stderr",
     "output_type": "stream",
     "text": [
      "iLQR takes : 0.27 sec']:  32%|███▏      | 32/100 [00:07<00:20,  3.28it/s]"
     ]
    },
    {
     "name": "stdout",
     "output_type": "stream",
     "text": [
      "Update from  44.395958  to  44.00127 reg:  476.837158203125 alpha: 1.000 0.248\n",
      "Update from  44.00127  to  43.484898 reg:  238.4185791015625 alpha: 1.000 0.255\n",
      "Update from  43.484898  to  43.450005 reg:  119.20928955078125 alpha: 0.100 0.265\n"
     ]
    },
    {
     "name": "stderr",
     "output_type": "stream",
     "text": [
      "iLQR takes : 0.02 sec']:  33%|███▎      | 33/100 [00:07<00:18,  3.70it/s]"
     ]
    },
    {
     "name": "stdout",
     "output_type": "stream",
     "text": [
      "Update from  43.41001  to  43.36114 reg:  1.0 alpha: 0.100 0.016\n",
      "Update from  48.065586  to  47.89583 reg:  1.0 alpha: 0.100 0.015\n",
      "Update from  47.89583  to  47.76683 reg:  0.5 alpha: 0.100 0.026\n"
     ]
    },
    {
     "name": "stderr",
     "output_type": "stream",
     "text": [
      "iLQR takes : 0.04 sec']:  34%|███▍      | 34/100 [00:08<00:16,  3.90it/s]"
     ]
    },
    {
     "name": "stdout",
     "output_type": "stream",
     "text": [
      "Update from  47.76683  to  47.681755 reg:  0.25 alpha: 0.100 0.036\n"
     ]
    },
    {
     "name": "stderr",
     "output_type": "stream",
     "text": [
      "iLQR takes : 0.07 sec']:  35%|███▌      | 35/100 [00:08<00:16,  3.98it/s]"
     ]
    },
    {
     "name": "stdout",
     "output_type": "stream",
     "text": [
      "Update from  66.04216  to  64.96482 reg:  25.0 alpha: 0.010 0.045\n",
      "Update from  64.96482  to  60.021004 reg:  12.5 alpha: 1.000 0.052\n",
      "Update from  60.021004  to  60.01643 reg:  6.25 alpha: 0.010 0.067\n"
     ]
    },
    {
     "name": "stderr",
     "output_type": "stream",
     "text": [
      "iLQR takes : 0.03 sec']:  36%|███▌      | 36/100 [00:08<00:15,  4.18it/s]"
     ]
    },
    {
     "name": "stdout",
     "output_type": "stream",
     "text": [
      "Update from  78.935776  to  76.64635 reg:  1.0 alpha: 1.000 0.012\n",
      "Update from  76.64635  to  76.47037 reg:  0.5 alpha: 0.100 0.023\n",
      "Update from  76.47037  to  76.44141 reg:  0.25 alpha: 0.100 0.034\n"
     ]
    },
    {
     "name": "stderr",
     "output_type": "stream",
     "text": [
      "iLQR takes : 0.11 sec']:  36%|███▌      | 36/100 [00:08<00:15,  4.18it/s]"
     ]
    },
    {
     "name": "stdout",
     "output_type": "stream",
     "text": [
      "Update from  117.92747  to  100.00332 reg:  1.0 alpha: 0.100 0.016\n",
      "Update from  100.00332  to  96.78142 reg:  62.5 alpha: 0.100 0.066\n",
      "Update from  96.78142  to  96.359795 reg:  156.25 alpha: 0.100 0.088\n",
      "Update from  96.359795  to  96.171814 reg:  78.125 alpha: 0.100 0.098\n",
      "Update from  96.171814  to  95.692276 reg:  39.0625 alpha: 1.000 0.105\n",
      "Update from  95.692276  to  95.639114 reg:  19.53125 alpha: 1.000 0.111\n"
     ]
    },
    {
     "name": "stderr",
     "output_type": "stream",
     "text": [
      "iLQR takes : 0.13 sec']:  37%|███▋      | 37/100 [00:08<00:16,  3.88it/s]"
     ]
    },
    {
     "name": "stdout",
     "output_type": "stream",
     "text": [
      "Update from  137.02292  to  121.543106 reg:  1.0 alpha: 0.100 0.019\n",
      "Update from  121.543106  to  120.42274 reg:  0.5 alpha: 0.100 0.030\n",
      "Update from  120.42274  to  116.226105 reg:  781.25 alpha: 1.000 0.105\n",
      "Update from  116.226105  to  115.52701 reg:  390.625 alpha: 1.000 0.112\n",
      "Update from  115.52701  to  114.446434 reg:  195.3125 alpha: 1.000 0.118\n",
      "Update from  114.446434  to  113.58822 reg:  97.65625 alpha: 1.000 0.125\n",
      "Update from  113.58822  to  113.58769 reg:  48.828125 alpha: 1.000 0.131\n"
     ]
    },
    {
     "name": "stderr",
     "output_type": "stream",
     "text": [
      "iLQR takes : 0.14 sec']:  38%|███▊      | 38/100 [00:09<00:17,  3.61it/s]"
     ]
    },
    {
     "name": "stdout",
     "output_type": "stream",
     "text": [
      "Update from  157.26346  to  143.10245 reg:  1.0 alpha: 1.000 0.012\n",
      "Update from  143.10245  to  140.99586 reg:  0.5 alpha: 0.010 0.030\n",
      "Update from  140.99586  to  138.68895 reg:  0.25 alpha: 0.010 0.047\n",
      "Update from  138.68895  to  136.56909 reg:  0.125 alpha: 0.010 0.062\n",
      "Update from  136.56909  to  136.55902 reg:  976.5625 alpha: 0.100 0.144\n"
     ]
    },
    {
     "name": "stderr",
     "output_type": "stream",
     "text": [
      "iLQR takes : 0.15 sec']:  39%|███▉      | 39/100 [00:09<00:18,  3.39it/s]"
     ]
    },
    {
     "name": "stdout",
     "output_type": "stream",
     "text": [
      "Update from  179.25688  to  175.94759 reg:  1.0 alpha: 1.000 0.012\n",
      "Update from  175.94759  to  171.72438 reg:  0.5 alpha: 0.100 0.024\n",
      "Update from  171.72438  to  170.74846 reg:  156.25 alpha: 0.100 0.083\n",
      "Update from  170.74846  to  168.95648 reg:  78.125 alpha: 0.100 0.094\n",
      "Update from  168.95648  to  168.55792 reg:  39.0625 alpha: 0.100 0.104\n",
      "Update from  168.55792  to  167.29858 reg:  19.53125 alpha: 0.100 0.114\n",
      "Update from  167.29858  to  167.20888 reg:  244.140625 alpha: 0.010 0.154\n"
     ]
    },
    {
     "name": "stderr",
     "output_type": "stream",
     "text": [
      "iLQR takes : 0.16 sec']:  40%|████      | 40/100 [00:09<00:18,  3.21it/s]"
     ]
    },
    {
     "name": "stdout",
     "output_type": "stream",
     "text": [
      "Update from  211.47417  to  207.33492 reg:  1.0 alpha: 1.000 0.011\n",
      "Update from  207.33492  to  204.49187 reg:  0.5 alpha: 0.100 0.023\n",
      "Update from  204.49187  to  203.73398 reg:  0.25 alpha: 0.100 0.034\n",
      "Update from  203.73398  to  202.32541 reg:  78.125 alpha: 0.010 0.096\n",
      "Update from  202.32541  to  200.64812 reg:  195.3125 alpha: 0.100 0.117\n",
      "Update from  200.64812  to  200.11461 reg:  97.65625 alpha: 0.100 0.128\n",
      "Update from  200.11461  to  199.92162 reg:  48.828125 alpha: 0.100 0.138\n",
      "Update from  199.92162  to  199.80746 reg:  24.4140625 alpha: 0.100 0.148\n",
      "Update from  199.80746  to  199.7536 reg:  12.20703125 alpha: 0.100 0.158\n"
     ]
    },
    {
     "name": "stderr",
     "output_type": "stream",
     "text": [
      "iLQR takes : 0.10 sec']:  41%|████      | 41/100 [00:10<00:22,  2.58it/s]"
     ]
    },
    {
     "name": "stdout",
     "output_type": "stream",
     "text": [
      "Update from  235.27403  to  231.2033 reg:  1.0 alpha: 1.000 0.011\n",
      "Update from  231.2033  to  227.91376 reg:  0.5 alpha: 0.100 0.022\n",
      "Update from  227.91376  to  227.69135 reg:  0.25 alpha: 0.010 0.038\n",
      "Update from  227.69135  to  227.4891 reg:  0.125 alpha: 0.010 0.052\n",
      "Update from  227.4891  to  227.31609 reg:  0.0625 alpha: 0.010 0.067\n",
      "Update from  227.31609  to  227.18059 reg:  0.03125 alpha: 0.010 0.082\n",
      "Update from  227.18059  to  227.10912 reg:  0.015625 alpha: 0.010 0.098\n"
     ]
    },
    {
     "name": "stderr",
     "output_type": "stream",
     "text": [
      "iLQR takes : 0.10 sec']:  42%|████▏     | 42/100 [00:10<00:20,  2.82it/s]"
     ]
    },
    {
     "name": "stdout",
     "output_type": "stream",
     "text": [
      "Update from  259.28415  to  256.81525 reg:  1.0 alpha: 1.000 0.011\n",
      "Update from  256.81525  to  255.7244 reg:  0.5 alpha: 0.100 0.022\n",
      "Update from  255.7244  to  254.23868 reg:  0.25 alpha: 0.100 0.034\n",
      "Update from  254.23868  to  252.67352 reg:  0.125 alpha: 0.100 0.045\n",
      "Update from  252.67352  to  252.51588 reg:  0.0625 alpha: 0.010 0.059\n",
      "Update from  252.51588  to  252.35892 reg:  0.03125 alpha: 0.010 0.074\n",
      "Update from  252.35892  to  252.24847 reg:  0.015625 alpha: 0.010 0.089\n"
     ]
    },
    {
     "name": "stderr",
     "output_type": "stream",
     "text": [
      "iLQR takes : 0.17 sec']:  43%|████▎     | 43/100 [00:11<00:20,  2.72it/s]"
     ]
    },
    {
     "name": "stdout",
     "output_type": "stream",
     "text": [
      "Update from  280.40213  to  277.9797 reg:  1.0 alpha: 1.000 0.011\n",
      "Update from  277.9797  to  276.85175 reg:  0.5 alpha: 0.100 0.022\n",
      "Update from  276.85175  to  275.58438 reg:  0.25 alpha: 0.100 0.033\n",
      "Update from  275.58438  to  274.47577 reg:  0.125 alpha: 0.100 0.044\n",
      "Update from  274.47577  to  273.88223 reg:  0.0625 alpha: 0.100 0.054\n"
     ]
    },
    {
     "name": "stderr",
     "output_type": "stream",
     "text": [
      "iLQR takes : 0.16 sec']:  44%|████▍     | 44/100 [00:11<00:20,  2.75it/s]"
     ]
    },
    {
     "name": "stdout",
     "output_type": "stream",
     "text": [
      "Update from  299.021  to  296.32895 reg:  1.0 alpha: 1.000 0.012\n",
      "Update from  296.32895  to  295.1744 reg:  0.5 alpha: 0.100 0.024\n",
      "Update from  295.1744  to  293.9424 reg:  0.25 alpha: 0.100 0.037\n",
      "Update from  293.9424  to  292.97174 reg:  0.125 alpha: 0.100 0.047\n",
      "Update from  292.97174  to  292.9714 reg:  24414.0625 alpha: 0.010 0.157\n"
     ]
    },
    {
     "name": "stderr",
     "output_type": "stream",
     "text": [
      "iLQR takes : 0.17 sec']:  45%|████▌     | 45/100 [00:11<00:19,  2.81it/s]"
     ]
    },
    {
     "name": "stdout",
     "output_type": "stream",
     "text": [
      "Update from  317.40668  to  314.49747 reg:  1.0 alpha: 1.000 0.011\n",
      "Update from  314.49747  to  313.34412 reg:  0.5 alpha: 0.100 0.024\n",
      "Update from  313.34412  to  312.12308 reg:  0.25 alpha: 0.100 0.035\n",
      "Update from  312.12308  to  311.00754 reg:  0.125 alpha: 0.100 0.046\n",
      "Update from  311.00754  to  310.81952 reg:  0.0625 alpha: 0.100 0.056\n",
      "Update from  310.81952  to  310.8194 reg:  12207.03125 alpha: 0.010 0.166\n"
     ]
    },
    {
     "name": "stderr",
     "output_type": "stream",
     "text": [
      "iLQR takes : 0.12 sec']:  46%|████▌     | 46/100 [00:12<00:19,  2.83it/s]"
     ]
    },
    {
     "name": "stdout",
     "output_type": "stream",
     "text": [
      "Update from  331.8587  to  326.61102 reg:  1.0 alpha: 1.000 0.011\n",
      "Update from  326.61102  to  326.43002 reg:  0.5 alpha: 0.100 0.024\n",
      "Update from  326.43002  to  326.42987 reg:  19531.25 alpha: 0.010 0.122\n"
     ]
    },
    {
     "name": "stderr",
     "output_type": "stream",
     "text": [
      "iLQR takes : 0.11 sec']:  47%|████▋     | 47/100 [00:12<00:17,  2.97it/s]"
     ]
    },
    {
     "name": "stdout",
     "output_type": "stream",
     "text": [
      "Update from  346.02325  to  340.3445 reg:  1.0 alpha: 1.000 0.011\n",
      "Update from  340.3445  to  340.34448 reg:  39062.5 alpha: 0.010 0.113\n"
     ]
    },
    {
     "name": "stderr",
     "output_type": "stream",
     "text": [
      "iLQR takes : 0.05 sec']:  48%|████▊     | 48/100 [00:12<00:16,  3.11it/s]"
     ]
    },
    {
     "name": "stdout",
     "output_type": "stream",
     "text": [
      "Update from  358.72556  to  352.4709 reg:  1.0 alpha: 1.000 0.011\n",
      "Update from  352.4709  to  352.47046 reg:  12.5 alpha: 0.010 0.055\n"
     ]
    },
    {
     "name": "stderr",
     "output_type": "stream",
     "text": [
      "iLQR takes : 0.03 sec']:  50%|█████     | 50/100 [00:13<00:13,  3.74it/s]"
     ]
    },
    {
     "name": "stdout",
     "output_type": "stream",
     "text": [
      "Update from  369.93143  to  363.9318 reg:  1.0 alpha: 1.000 0.013\n",
      "Update from  363.9318  to  362.46646 reg:  0.5 alpha: 0.100 0.025\n",
      "Update from  362.46646  to  362.45984 reg:  0.25 alpha: 1.000 0.032\n"
     ]
    },
    {
     "name": "stderr",
     "output_type": "stream",
     "text": [
      "iLQR takes : 0.03 sec']:  51%|█████     | 51/100 [00:13<00:12,  4.04it/s]"
     ]
    },
    {
     "name": "stdout",
     "output_type": "stream",
     "text": [
      "Update from  377.1614  to  370.07733 reg:  1.0 alpha: 1.000 0.012\n",
      "Update from  370.07733  to  369.91193 reg:  0.5 alpha: 1.000 0.019\n",
      "Update from  369.91193  to  369.87302 reg:  0.25 alpha: 1.000 0.026\n",
      "Update from  382.72055  to  375.39725 reg:  1.0 alpha: 1.000 0.011\n"
     ]
    },
    {
     "name": "stderr",
     "output_type": "stream",
     "text": [
      "iLQR takes : 0.02 sec']:  52%|█████▏    | 52/100 [00:13<00:11,  4.33it/s]"
     ]
    },
    {
     "name": "stdout",
     "output_type": "stream",
     "text": [
      "Update from  375.39725  to  375.35 reg:  0.5 alpha: 1.000 0.019\n",
      "Update from  386.4145  to  379.18137 reg:  1.0 alpha: 1.000 0.011\n",
      "Update from  379.18137  to  379.1341 reg:  0.5 alpha: 1.000 0.018\n"
     ]
    },
    {
     "name": "stderr",
     "output_type": "stream",
     "text": [
      "iLQR takes : 0.03 sec']:  54%|█████▍    | 54/100 [00:13<00:09,  4.69it/s]"
     ]
    },
    {
     "name": "stdout",
     "output_type": "stream",
     "text": [
      "Update from  389.60156  to  381.8582 reg:  1.0 alpha: 1.000 0.011\n",
      "Update from  381.8582  to  381.58133 reg:  0.5 alpha: 1.000 0.018\n",
      "Update from  381.58133  to  381.5225 reg:  0.25 alpha: 1.000 0.026\n",
      "Update from  390.56613  to  383.13217 reg:  1.0 alpha: 1.000 0.011\n"
     ]
    },
    {
     "name": "stderr",
     "output_type": "stream",
     "text": [
      "iLQR takes : 0.02 sec']:  55%|█████▌    | 55/100 [00:14<00:09,  4.82it/s]"
     ]
    },
    {
     "name": "stdout",
     "output_type": "stream",
     "text": [
      "Update from  383.13217  to  383.06024 reg:  0.5 alpha: 1.000 0.019\n",
      "Update from  392.28766  to  384.43878 reg:  1.0 alpha: 1.000 0.011\n",
      "Update from  384.43878  to  383.90317 reg:  0.5 alpha: 1.000 0.018\n",
      "Update from  383.90317  to  383.82605 reg:  0.25 alpha: 1.000 0.025\n"
     ]
    },
    {
     "name": "stderr",
     "output_type": "stream",
     "text": [
      "iLQR takes : 0.02 sec']:  57%|█████▋    | 57/100 [00:14<00:08,  4.97it/s]"
     ]
    },
    {
     "name": "stdout",
     "output_type": "stream",
     "text": [
      "Update from  391.8349  to  384.1958 reg:  1.0 alpha: 1.000 0.011\n",
      "Update from  384.1958  to  384.1039 reg:  0.5 alpha: 1.000 0.018\n",
      "Update from  392.74872  to  385.0104 reg:  1.0 alpha: 1.000 0.011\n"
     ]
    },
    {
     "name": "stderr",
     "output_type": "stream",
     "text": [
      "iLQR takes : 0.04 sec']:  58%|█████▊    | 58/100 [00:14<00:08,  4.90it/s]"
     ]
    },
    {
     "name": "stdout",
     "output_type": "stream",
     "text": [
      "Update from  385.0104  to  384.13705 reg:  0.5 alpha: 0.100 0.022\n",
      "Update from  384.13705  to  383.922 reg:  0.25 alpha: 1.000 0.029\n",
      "Update from  383.922  to  383.8898 reg:  0.125 alpha: 1.000 0.036\n",
      "Update from  391.46887  to  383.95322 reg:  1.0 alpha: 1.000 0.011\n"
     ]
    },
    {
     "name": "stderr",
     "output_type": "stream",
     "text": [
      "iLQR takes : 0.02 sec']:  59%|█████▉    | 59/100 [00:14<00:08,  4.93it/s]"
     ]
    },
    {
     "name": "stdout",
     "output_type": "stream",
     "text": [
      "Update from  383.95322  to  383.88626 reg:  0.5 alpha: 0.100 0.024\n",
      "Update from  389.42325  to  387.61053 reg:  1.0 alpha: 1.000 0.011\n",
      "Update from  387.61053  to  386.13126 reg:  0.5 alpha: 0.100 0.022\n"
     ]
    },
    {
     "name": "stderr",
     "output_type": "stream",
     "text": [
      "iLQR takes : 0.08 sec']:  59%|█████▉    | 59/100 [00:14<00:08,  4.93it/s]"
     ]
    },
    {
     "name": "stdout",
     "output_type": "stream",
     "text": [
      "Update from  386.13126  to  384.9882 reg:  0.25 alpha: 0.100 0.033\n",
      "Update from  384.9882  to  384.27518 reg:  0.125 alpha: 0.100 0.044\n",
      "Update from  384.27518  to  383.881 reg:  0.0625 alpha: 0.100 0.055\n",
      "Update from  383.881  to  383.69305 reg:  0.03125 alpha: 0.100 0.066\n",
      "Update from  383.69305  to  383.62146 reg:  0.015625 alpha: 0.100 0.077\n"
     ]
    },
    {
     "name": "stderr",
     "output_type": "stream",
     "text": [
      "iLQR takes : 0.04 sec']:  61%|██████    | 61/100 [00:15<00:08,  4.63it/s]"
     ]
    },
    {
     "name": "stdout",
     "output_type": "stream",
     "text": [
      "Update from  388.40277  to  386.15454 reg:  1.0 alpha: 0.100 0.016\n",
      "Update from  386.15454  to  384.08017 reg:  0.5 alpha: 0.100 0.028\n",
      "Update from  384.08017  to  383.44647 reg:  0.25 alpha: 1.000 0.035\n",
      "Update from  383.44647  to  383.41745 reg:  0.125 alpha: 1.000 0.042\n"
     ]
    },
    {
     "name": "stderr",
     "output_type": "stream",
     "text": [
      "iLQR takes : 0.02 sec']:  62%|██████▏   | 62/100 [00:15<00:08,  4.66it/s]"
     ]
    },
    {
     "name": "stdout",
     "output_type": "stream",
     "text": [
      "Update from  391.04196  to  383.48224 reg:  1.0 alpha: 1.000 0.012\n",
      "Update from  383.48224  to  383.42007 reg:  0.5 alpha: 0.100 0.023\n"
     ]
    },
    {
     "name": "stderr",
     "output_type": "stream",
     "text": [
      "iLQR takes : 0.09 sec']:  62%|██████▏   | 62/100 [00:15<00:08,  4.66it/s]"
     ]
    },
    {
     "name": "stdout",
     "output_type": "stream",
     "text": [
      "Update from  389.05753  to  386.8935 reg:  1.0 alpha: 1.000 0.013\n",
      "Update from  386.8935  to  385.49396 reg:  0.5 alpha: 0.100 0.025\n",
      "Update from  385.49396  to  384.36877 reg:  0.25 alpha: 0.100 0.038\n",
      "Update from  384.36877  to  383.7172 reg:  0.125 alpha: 0.100 0.050\n",
      "Update from  383.7172  to  383.37402 reg:  0.0625 alpha: 0.100 0.062\n",
      "Update from  383.37402  to  383.20782 reg:  0.03125 alpha: 0.100 0.074\n",
      "Update from  383.20782  to  383.1297 reg:  0.015625 alpha: 0.100 0.086\n"
     ]
    },
    {
     "name": "stderr",
     "output_type": "stream",
     "text": [
      "iLQR takes : 0.04 sec']:  63%|██████▎   | 63/100 [00:15<00:08,  4.30it/s]"
     ]
    },
    {
     "name": "stdout",
     "output_type": "stream",
     "text": [
      "Update from  387.9839  to  385.75317 reg:  1.0 alpha: 0.100 0.017\n",
      "Update from  385.75317  to  383.6318 reg:  0.5 alpha: 0.100 0.029\n",
      "Update from  383.6318  to  382.9758 reg:  0.25 alpha: 1.000 0.037\n",
      "Update from  382.9758  to  382.96942 reg:  0.125 alpha: 1.000 0.043\n"
     ]
    },
    {
     "name": "stderr",
     "output_type": "stream",
     "text": [
      "iLQR takes : 0.03 sec']:  64%|██████▍   | 64/100 [00:16<00:08,  4.34it/s]"
     ]
    },
    {
     "name": "stdout",
     "output_type": "stream",
     "text": [
      "Update from  390.6192  to  383.05762 reg:  1.0 alpha: 1.000 0.015\n",
      "Update from  383.05762  to  382.99557 reg:  0.5 alpha: 0.100 0.033\n"
     ]
    },
    {
     "name": "stderr",
     "output_type": "stream",
     "text": [
      "iLQR takes : 0.08 sec']:  65%|██████▌   | 65/100 [00:16<00:10,  3.36it/s]"
     ]
    },
    {
     "name": "stdout",
     "output_type": "stream",
     "text": [
      "Update from  388.65805  to  386.55225 reg:  1.0 alpha: 1.000 0.011\n",
      "Update from  386.55225  to  385.10327 reg:  0.5 alpha: 0.100 0.023\n",
      "Update from  385.10327  to  383.9825 reg:  0.25 alpha: 0.100 0.033\n",
      "Update from  383.9825  to  383.32712 reg:  0.125 alpha: 0.100 0.045\n",
      "Update from  383.32712  to  382.97095 reg:  0.0625 alpha: 0.100 0.055\n",
      "Update from  382.97095  to  382.80414 reg:  0.03125 alpha: 0.100 0.066\n",
      "Update from  382.80414  to  382.71503 reg:  0.015625 alpha: 0.100 0.076\n"
     ]
    },
    {
     "name": "stderr",
     "output_type": "stream",
     "text": [
      "iLQR takes : 0.04 sec']:  67%|██████▋   | 67/100 [00:16<00:08,  3.81it/s]"
     ]
    },
    {
     "name": "stdout",
     "output_type": "stream",
     "text": [
      "Update from  387.5754  to  385.34946 reg:  1.0 alpha: 0.100 0.016\n",
      "Update from  385.34946  to  383.2376 reg:  0.5 alpha: 0.100 0.027\n",
      "Update from  383.2376  to  382.6005 reg:  0.25 alpha: 1.000 0.034\n",
      "Update from  382.6005  to  382.58588 reg:  0.125 alpha: 1.000 0.041\n"
     ]
    },
    {
     "name": "stderr",
     "output_type": "stream",
     "text": [
      "iLQR takes : 0.02 sec']:  68%|██████▊   | 68/100 [00:17<00:07,  4.07it/s]"
     ]
    },
    {
     "name": "stdout",
     "output_type": "stream",
     "text": [
      "Update from  390.24976  to  382.67297 reg:  1.0 alpha: 1.000 0.012\n",
      "Update from  382.67297  to  382.62213 reg:  0.5 alpha: 0.100 0.023\n"
     ]
    },
    {
     "name": "stderr",
     "output_type": "stream",
     "text": [
      "iLQR takes : 0.08 sec']:  68%|██████▊   | 68/100 [00:17<00:07,  4.07it/s]"
     ]
    },
    {
     "name": "stdout",
     "output_type": "stream",
     "text": [
      "Update from  388.2927  to  386.2284 reg:  1.0 alpha: 1.000 0.012\n",
      "Update from  386.2284  to  384.74863 reg:  0.5 alpha: 0.100 0.025\n",
      "Update from  384.74863  to  383.6273 reg:  0.25 alpha: 0.100 0.036\n",
      "Update from  383.6273  to  382.961 reg:  0.125 alpha: 0.100 0.048\n",
      "Update from  382.961  to  382.61624 reg:  0.0625 alpha: 0.100 0.059\n",
      "Update from  382.61624  to  382.45013 reg:  0.03125 alpha: 0.100 0.070\n",
      "Update from  382.45013  to  382.36176 reg:  0.015625 alpha: 0.100 0.080\n"
     ]
    },
    {
     "name": "stderr",
     "output_type": "stream",
     "text": [
      "iLQR takes : 0.04 sec']:  70%|███████   | 70/100 [00:17<00:07,  4.17it/s]"
     ]
    },
    {
     "name": "stdout",
     "output_type": "stream",
     "text": [
      "Update from  387.23395  to  385.00372 reg:  1.0 alpha: 0.100 0.016\n",
      "Update from  385.00372  to  382.88577 reg:  0.5 alpha: 0.100 0.027\n",
      "Update from  382.88577  to  382.26306 reg:  0.25 alpha: 1.000 0.034\n",
      "Update from  382.26306  to  382.23895 reg:  0.125 alpha: 1.000 0.041\n"
     ]
    },
    {
     "name": "stderr",
     "output_type": "stream",
     "text": [
      "iLQR takes : 0.02 sec']:  71%|███████   | 71/100 [00:17<00:06,  4.40it/s]"
     ]
    },
    {
     "name": "stdout",
     "output_type": "stream",
     "text": [
      "Update from  389.91504  to  382.34708 reg:  1.0 alpha: 1.000 0.012\n",
      "Update from  382.34708  to  382.28516 reg:  0.5 alpha: 0.100 0.023\n",
      "Update from  387.9617  to  385.94055 reg:  1.0 alpha: 1.000 0.011\n"
     ]
    },
    {
     "name": "stderr",
     "output_type": "stream",
     "text": [
      "iLQR takes : 0.08 sec']:  71%|███████   | 71/100 [00:17<00:06,  4.40it/s]"
     ]
    },
    {
     "name": "stdout",
     "output_type": "stream",
     "text": [
      "Update from  385.94055  to  384.43185 reg:  0.5 alpha: 0.100 0.023\n",
      "Update from  384.43185  to  383.29782 reg:  0.25 alpha: 0.100 0.034\n",
      "Update from  383.29782  to  382.64178 reg:  0.125 alpha: 0.100 0.044\n",
      "Update from  382.64178  to  382.2971 reg:  0.0625 alpha: 0.100 0.055\n",
      "Update from  382.2971  to  382.13144 reg:  0.03125 alpha: 0.100 0.067\n",
      "Update from  382.13144  to  382.04367 reg:  0.015625 alpha: 0.100 0.078\n"
     ]
    },
    {
     "name": "stderr",
     "output_type": "stream",
     "text": [
      "iLQR takes : 0.04 sec']:  72%|███████▏  | 72/100 [00:18<00:06,  4.24it/s]"
     ]
    },
    {
     "name": "stdout",
     "output_type": "stream",
     "text": [
      "Update from  386.9251  to  384.68997 reg:  1.0 alpha: 0.100 0.016\n",
      "Update from  384.68997  to  382.55673 reg:  0.5 alpha: 0.100 0.027\n",
      "Update from  382.55673  to  381.9477 reg:  0.25 alpha: 1.000 0.034\n",
      "Update from  381.9477  to  381.93637 reg:  0.125 alpha: 1.000 0.041\n"
     ]
    },
    {
     "name": "stderr",
     "output_type": "stream",
     "text": [
      "iLQR takes : 0.02 sec']:  74%|███████▍  | 74/100 [00:18<00:05,  4.53it/s]"
     ]
    },
    {
     "name": "stdout",
     "output_type": "stream",
     "text": [
      "Update from  389.62363  to  382.05264 reg:  1.0 alpha: 1.000 0.012\n",
      "Update from  382.05264  to  381.9911 reg:  0.5 alpha: 0.100 0.023\n",
      "Update from  387.67316  to  385.68027 reg:  1.0 alpha: 1.000 0.011\n"
     ]
    },
    {
     "name": "stderr",
     "output_type": "stream",
     "text": [
      "iLQR takes : 0.08 sec']:  74%|███████▍  | 74/100 [00:18<00:05,  4.53it/s]"
     ]
    },
    {
     "name": "stdout",
     "output_type": "stream",
     "text": [
      "Update from  385.68027  to  384.14548 reg:  0.5 alpha: 0.100 0.023\n",
      "Update from  384.14548  to  383.0102 reg:  0.25 alpha: 0.100 0.035\n",
      "Update from  383.0102  to  382.35382 reg:  0.125 alpha: 0.100 0.046\n",
      "Update from  382.35382  to  382.00922 reg:  0.0625 alpha: 0.100 0.057\n",
      "Update from  382.00922  to  381.8471 reg:  0.03125 alpha: 0.100 0.068\n",
      "Update from  381.8471  to  381.76474 reg:  0.015625 alpha: 0.100 0.079\n"
     ]
    },
    {
     "name": "stderr",
     "output_type": "stream",
     "text": [
      "iLQR takes : 0.04 sec']:  75%|███████▌  | 75/100 [00:18<00:05,  4.32it/s]"
     ]
    },
    {
     "name": "stdout",
     "output_type": "stream",
     "text": [
      "Update from  386.71655  to  384.49155 reg:  1.0 alpha: 0.100 0.016\n",
      "Update from  384.49155  to  382.31158 reg:  0.5 alpha: 0.100 0.027\n",
      "Update from  382.31158  to  381.68158 reg:  0.25 alpha: 1.000 0.034\n",
      "Update from  381.68158  to  381.66605 reg:  0.125 alpha: 1.000 0.041\n"
     ]
    },
    {
     "name": "stderr",
     "output_type": "stream",
     "text": [
      "iLQR takes : 0.02 sec']:  77%|███████▋  | 77/100 [00:19<00:05,  4.55it/s]"
     ]
    },
    {
     "name": "stdout",
     "output_type": "stream",
     "text": [
      "Update from  389.36343  to  381.78867 reg:  1.0 alpha: 1.000 0.011\n",
      "Update from  381.78867  to  381.7275 reg:  0.5 alpha: 0.100 0.022\n",
      "Update from  387.41708  to  385.4285 reg:  1.0 alpha: 1.000 0.011\n"
     ]
    },
    {
     "name": "stderr",
     "output_type": "stream",
     "text": [
      "iLQR takes : 0.08 sec']:  77%|███████▋  | 77/100 [00:19<00:05,  4.55it/s]"
     ]
    },
    {
     "name": "stdout",
     "output_type": "stream",
     "text": [
      "Update from  385.4285  to  383.88306 reg:  0.5 alpha: 0.100 0.023\n",
      "Update from  383.88306  to  382.7491 reg:  0.25 alpha: 0.100 0.034\n",
      "Update from  382.7491  to  382.0826 reg:  0.125 alpha: 0.100 0.044\n",
      "Update from  382.0826  to  381.75034 reg:  0.0625 alpha: 0.100 0.055\n",
      "Update from  381.75034  to  381.589 reg:  0.03125 alpha: 0.100 0.066\n",
      "Update from  381.589  to  381.50748 reg:  0.015625 alpha: 0.100 0.078\n"
     ]
    },
    {
     "name": "stderr",
     "output_type": "stream",
     "text": [
      "iLQR takes : 0.04 sec']:  78%|███████▊  | 78/100 [00:19<00:05,  4.35it/s]"
     ]
    },
    {
     "name": "stdout",
     "output_type": "stream",
     "text": [
      "Update from  386.46936  to  384.2417 reg:  1.0 alpha: 0.100 0.018\n",
      "Update from  384.2417  to  382.05615 reg:  0.5 alpha: 0.100 0.030\n",
      "Update from  382.05615  to  381.43573 reg:  0.25 alpha: 1.000 0.037\n",
      "Update from  381.43573  to  381.4216 reg:  0.125 alpha: 1.000 0.045\n"
     ]
    },
    {
     "name": "stderr",
     "output_type": "stream",
     "text": [
      "iLQR takes : 0.02 sec']:  80%|████████  | 80/100 [00:19<00:04,  4.53it/s]"
     ]
    },
    {
     "name": "stdout",
     "output_type": "stream",
     "text": [
      "Update from  389.12802  to  381.55063 reg:  1.0 alpha: 1.000 0.011\n",
      "Update from  381.55063  to  381.48935 reg:  0.5 alpha: 0.100 0.023\n"
     ]
    },
    {
     "name": "stderr",
     "output_type": "stream",
     "text": [
      "iLQR takes : 0.08 sec']:  80%|████████  | 80/100 [00:19<00:04,  4.53it/s]"
     ]
    },
    {
     "name": "stdout",
     "output_type": "stream",
     "text": [
      "Update from  387.18445  to  385.21506 reg:  1.0 alpha: 1.000 0.012\n",
      "Update from  385.21506  to  383.6376 reg:  0.5 alpha: 0.100 0.023\n",
      "Update from  383.6376  to  382.51508 reg:  0.25 alpha: 0.100 0.035\n",
      "Update from  382.51508  to  381.84875 reg:  0.125 alpha: 0.100 0.045\n",
      "Update from  381.84875  to  381.5057 reg:  0.0625 alpha: 0.100 0.056\n",
      "Update from  381.5057  to  381.35626 reg:  0.03125 alpha: 0.100 0.067\n",
      "Update from  381.35626  to  381.2747 reg:  0.015625 alpha: 0.100 0.077\n"
     ]
    },
    {
     "name": "stderr",
     "output_type": "stream",
     "text": [
      "iLQR takes : 0.04 sec']:  82%|████████▏ | 82/100 [00:20<00:04,  4.41it/s]"
     ]
    },
    {
     "name": "stdout",
     "output_type": "stream",
     "text": [
      "Update from  386.24445  to  384.00275 reg:  1.0 alpha: 0.100 0.016\n",
      "Update from  384.00275  to  381.82486 reg:  0.5 alpha: 0.100 0.028\n",
      "Update from  381.82486  to  381.21375 reg:  0.25 alpha: 1.000 0.034\n",
      "Update from  381.21375  to  381.20038 reg:  0.125 alpha: 1.000 0.041\n"
     ]
    },
    {
     "name": "stderr",
     "output_type": "stream",
     "text": [
      "iLQR takes : 0.02 sec']:  83%|████████▎ | 83/100 [00:20<00:03,  4.55it/s]"
     ]
    },
    {
     "name": "stdout",
     "output_type": "stream",
     "text": [
      "Update from  388.91504  to  381.32422 reg:  1.0 alpha: 1.000 0.012\n",
      "Update from  381.32422  to  381.2745 reg:  0.5 alpha: 0.100 0.023\n"
     ]
    },
    {
     "name": "stderr",
     "output_type": "stream",
     "text": [
      "iLQR takes : 0.08 sec']:  83%|████████▎ | 83/100 [00:20<00:03,  4.55it/s]"
     ]
    },
    {
     "name": "stdout",
     "output_type": "stream",
     "text": [
      "Update from  386.97388  to  385.0238 reg:  1.0 alpha: 1.000 0.013\n",
      "Update from  385.0238  to  383.42722 reg:  0.5 alpha: 0.100 0.024\n",
      "Update from  383.42722  to  382.3042 reg:  0.25 alpha: 0.100 0.038\n",
      "Update from  382.3042  to  381.63803 reg:  0.125 alpha: 0.100 0.049\n",
      "Update from  381.63803  to  381.29504 reg:  0.0625 alpha: 0.100 0.060\n",
      "Update from  381.29504  to  381.13467 reg:  0.03125 alpha: 0.100 0.070\n",
      "Update from  381.13467  to  381.0649 reg:  0.015625 alpha: 0.100 0.081\n"
     ]
    },
    {
     "name": "stderr",
     "output_type": "stream",
     "text": [
      "iLQR takes : 0.04 sec']:  84%|████████▍ | 84/100 [00:20<00:03,  4.33it/s]"
     ]
    },
    {
     "name": "stdout",
     "output_type": "stream",
     "text": [
      "Update from  386.0413  to  383.78537 reg:  1.0 alpha: 0.100 0.017\n",
      "Update from  383.78537  to  381.6152 reg:  0.5 alpha: 0.100 0.028\n",
      "Update from  381.6152  to  381.01263 reg:  0.25 alpha: 1.000 0.035\n",
      "Update from  381.01263  to  380.98935 reg:  0.125 alpha: 1.000 0.041\n"
     ]
    },
    {
     "name": "stderr",
     "output_type": "stream",
     "text": [
      "iLQR takes : 0.03 sec']:  85%|████████▌ | 85/100 [00:21<00:03,  4.37it/s]"
     ]
    },
    {
     "name": "stdout",
     "output_type": "stream",
     "text": [
      "Update from  388.71127  to  381.1296 reg:  1.0 alpha: 1.000 0.013\n",
      "Update from  381.1296  to  381.06894 reg:  0.5 alpha: 0.100 0.026\n"
     ]
    },
    {
     "name": "stderr",
     "output_type": "stream",
     "text": [
      "iLQR takes : 0.08 sec']:  86%|████████▌ | 86/100 [00:21<00:03,  4.43it/s]"
     ]
    },
    {
     "name": "stdout",
     "output_type": "stream",
     "text": [
      "Update from  386.77216  to  384.8509 reg:  1.0 alpha: 1.000 0.012\n",
      "Update from  384.8509  to  383.23703 reg:  0.5 alpha: 0.100 0.023\n",
      "Update from  383.23703  to  382.11368 reg:  0.25 alpha: 0.100 0.035\n",
      "Update from  382.11368  to  381.4472 reg:  0.125 alpha: 0.100 0.047\n",
      "Update from  381.4472  to  381.10477 reg:  0.0625 alpha: 0.100 0.057\n",
      "Update from  381.10477  to  380.9444 reg:  0.03125 alpha: 0.100 0.069\n",
      "Update from  380.9444  to  380.86365 reg:  0.015625 alpha: 0.100 0.081\n"
     ]
    },
    {
     "name": "stderr",
     "output_type": "stream",
     "text": [
      "iLQR takes : 0.04 sec']:  88%|████████▊ | 88/100 [00:21<00:03,  3.57it/s]"
     ]
    },
    {
     "name": "stdout",
     "output_type": "stream",
     "text": [
      "Update from  385.84555  to  383.5986 reg:  1.0 alpha: 0.100 0.016\n",
      "Update from  383.5986  to  381.42535 reg:  0.5 alpha: 0.100 0.027\n",
      "Update from  381.42535  to  380.8182 reg:  0.25 alpha: 1.000 0.034\n",
      "Update from  380.8182  to  380.80826 reg:  0.125 alpha: 1.000 0.040\n"
     ]
    },
    {
     "name": "stderr",
     "output_type": "stream",
     "text": [
      "iLQR takes : 0.02 sec']:  89%|████████▉ | 89/100 [00:22<00:02,  3.90it/s]"
     ]
    },
    {
     "name": "stdout",
     "output_type": "stream",
     "text": [
      "Update from  388.53735  to  380.95337 reg:  1.0 alpha: 1.000 0.012\n",
      "Update from  380.95337  to  380.8926 reg:  0.5 alpha: 0.100 0.023\n",
      "Update from  386.6009  to  384.6895 reg:  1.0 alpha: 1.000 0.011\n"
     ]
    },
    {
     "name": "stderr",
     "output_type": "stream",
     "text": [
      "iLQR takes : 0.08 sec']:  89%|████████▉ | 89/100 [00:22<00:02,  3.90it/s]"
     ]
    },
    {
     "name": "stdout",
     "output_type": "stream",
     "text": [
      "Update from  384.6895  to  383.0607 reg:  0.5 alpha: 0.100 0.023\n",
      "Update from  383.0607  to  381.93884 reg:  0.25 alpha: 0.100 0.035\n",
      "Update from  381.93884  to  381.2734 reg:  0.125 alpha: 0.100 0.045\n",
      "Update from  381.2734  to  380.9313 reg:  0.0625 alpha: 0.100 0.056\n",
      "Update from  380.9313  to  380.77167 reg:  0.03125 alpha: 0.100 0.067\n",
      "Update from  380.77167  to  380.6914 reg:  0.015625 alpha: 0.100 0.077\n"
     ]
    },
    {
     "name": "stderr",
     "output_type": "stream",
     "text": [
      "iLQR takes : 0.05 sec']:  90%|█████████ | 90/100 [00:22<00:02,  3.88it/s]"
     ]
    },
    {
     "name": "stdout",
     "output_type": "stream",
     "text": [
      "Update from  385.6802  to  383.43112 reg:  1.0 alpha: 0.100 0.017\n",
      "Update from  383.43112  to  381.2543 reg:  0.5 alpha: 0.100 0.028\n",
      "Update from  381.2543  to  380.65237 reg:  0.25 alpha: 1.000 0.035\n",
      "Update from  380.65237  to  380.63287 reg:  0.125 alpha: 1.000 0.046\n"
     ]
    },
    {
     "name": "stderr",
     "output_type": "stream",
     "text": [
      "iLQR takes : 0.02 sec']:  92%|█████████▏| 92/100 [00:22<00:01,  4.19it/s]"
     ]
    },
    {
     "name": "stdout",
     "output_type": "stream",
     "text": [
      "Update from  388.36835  to  380.771 reg:  1.0 alpha: 1.000 0.012\n",
      "Update from  380.771  to  380.72156 reg:  0.5 alpha: 0.100 0.024\n"
     ]
    },
    {
     "name": "stderr",
     "output_type": "stream",
     "text": [
      "iLQR takes : 0.08 sec']:  92%|█████████▏| 92/100 [00:22<00:01,  4.19it/s]"
     ]
    },
    {
     "name": "stdout",
     "output_type": "stream",
     "text": [
      "Update from  386.43472  to  384.54276 reg:  1.0 alpha: 1.000 0.012\n",
      "Update from  384.54276  to  382.90063 reg:  0.5 alpha: 0.100 0.026\n",
      "Update from  382.90063  to  381.77966 reg:  0.25 alpha: 0.100 0.037\n",
      "Update from  381.77966  to  381.11542 reg:  0.125 alpha: 0.100 0.049\n",
      "Update from  381.11542  to  380.7745 reg:  0.0625 alpha: 0.100 0.060\n",
      "Update from  380.7745  to  380.6151 reg:  0.03125 alpha: 0.100 0.070\n",
      "Update from  380.6151  to  380.53525 reg:  0.015625 alpha: 0.100 0.081\n"
     ]
    },
    {
     "name": "stderr",
     "output_type": "stream",
     "text": [
      "iLQR takes : 0.05 sec']:  93%|█████████▎| 93/100 [00:23<00:01,  4.07it/s]"
     ]
    },
    {
     "name": "stdout",
     "output_type": "stream",
     "text": [
      "Update from  385.53024  to  383.27945 reg:  1.0 alpha: 0.100 0.020\n",
      "Update from  383.27945  to  381.09912 reg:  0.5 alpha: 0.100 0.031\n",
      "Update from  381.09912  to  380.50204 reg:  0.25 alpha: 1.000 0.038\n",
      "Update from  380.50204  to  380.48413 reg:  0.125 alpha: 1.000 0.045\n"
     ]
    },
    {
     "name": "stderr",
     "output_type": "stream",
     "text": [
      "iLQR takes : 0.02 sec']:  95%|█████████▌| 95/100 [00:23<00:01,  4.41it/s]"
     ]
    },
    {
     "name": "stdout",
     "output_type": "stream",
     "text": [
      "Update from  388.22546  to  380.62616 reg:  1.0 alpha: 1.000 0.011\n",
      "Update from  380.62616  to  380.57678 reg:  0.5 alpha: 0.100 0.023\n",
      "Update from  386.294  to  384.41037 reg:  1.0 alpha: 1.000 0.011\n"
     ]
    },
    {
     "name": "stderr",
     "output_type": "stream",
     "text": [
      "iLQR takes : 0.08 sec']:  95%|█████████▌| 95/100 [00:23<00:01,  4.41it/s]"
     ]
    },
    {
     "name": "stdout",
     "output_type": "stream",
     "text": [
      "Update from  384.41037  to  382.7561 reg:  0.5 alpha: 0.100 0.023\n",
      "Update from  382.7561  to  381.63626 reg:  0.25 alpha: 0.100 0.034\n",
      "Update from  381.63626  to  380.97244 reg:  0.125 alpha: 0.100 0.044\n",
      "Update from  380.97244  to  380.63196 reg:  0.0625 alpha: 0.100 0.055\n",
      "Update from  380.63196  to  380.47318 reg:  0.03125 alpha: 0.100 0.066\n",
      "Update from  380.47318  to  380.3937 reg:  0.015625 alpha: 0.100 0.077\n"
     ]
    },
    {
     "name": "stderr",
     "output_type": "stream",
     "text": [
      "iLQR takes : 0.04 sec']:  97%|█████████▋| 97/100 [00:24<00:00,  4.35it/s]"
     ]
    },
    {
     "name": "stdout",
     "output_type": "stream",
     "text": [
      "Update from  385.39413  to  383.1417 reg:  1.0 alpha: 0.100 0.018\n",
      "Update from  383.1417  to  380.95883 reg:  0.5 alpha: 0.100 0.030\n",
      "Update from  380.95883  to  380.366 reg:  0.25 alpha: 1.000 0.036\n",
      "Update from  380.366  to  380.349 reg:  0.125 alpha: 1.000 0.043\n"
     ]
    },
    {
     "name": "stderr",
     "output_type": "stream",
     "text": [
      "iLQR takes : 0.02 sec']:  98%|█████████▊| 98/100 [00:24<00:00,  4.55it/s]"
     ]
    },
    {
     "name": "stdout",
     "output_type": "stream",
     "text": [
      "Update from  388.09552  to  380.4947 reg:  1.0 alpha: 1.000 0.012\n",
      "Update from  380.4947  to  380.44562 reg:  0.5 alpha: 0.100 0.023\n",
      "Update from  386.1666  to  384.29037 reg:  1.0 alpha: 1.000 0.011\n"
     ]
    },
    {
     "name": "stderr",
     "output_type": "stream",
     "text": [
      "iLQR takes : 0.08 sec']:  98%|█████████▊| 98/100 [00:24<00:00,  4.55it/s]"
     ]
    },
    {
     "name": "stdout",
     "output_type": "stream",
     "text": [
      "Update from  384.29037  to  382.62497 reg:  0.5 alpha: 0.100 0.023\n",
      "Update from  382.62497  to  381.50586 reg:  0.25 alpha: 0.100 0.036\n",
      "Update from  381.50586  to  380.84293 reg:  0.125 alpha: 0.100 0.049\n",
      "Update from  380.84293  to  380.50293 reg:  0.0625 alpha: 0.100 0.061\n",
      "Update from  380.50293  to  380.34467 reg:  0.03125 alpha: 0.100 0.072\n",
      "Update from  380.34467  to  380.2652 reg:  0.015625 alpha: 0.100 0.082\n"
     ]
    },
    {
     "name": "stderr",
     "output_type": "stream",
     "text": [
      "iLQR takes : 0.04 sec']: 100%|██████████| 100/100 [00:24<00:00,  4.05it/s]"
     ]
    },
    {
     "name": "stdout",
     "output_type": "stream",
     "text": [
      "Update from  385.27042  to  383.0165 reg:  1.0 alpha: 0.100 0.017\n",
      "Update from  383.0165  to  380.83093 reg:  0.5 alpha: 0.100 0.029\n",
      "Update from  380.83093  to  380.24237 reg:  0.25 alpha: 1.000 0.036\n",
      "Update from  380.24237  to  380.2267 reg:  0.125 alpha: 1.000 0.044\n"
     ]
    },
    {
     "name": "stderr",
     "output_type": "stream",
     "text": [
      "\n",
      "/tmp/ipykernel_6856/831718402.py:71: DeprecationWarning: Starting with ImageIO v3 the behavior of this function will switch to that of iio.v3.imread. To keep the current behavior (and make this warning disappear) use `import imageio.v2 as imageio` or call `imageio.v2.imread` directly.\n",
      "  image = imageio.imread(filename)\n"
     ]
    },
    {
     "data": {
      "text/plain": [
       "[<matplotlib.lines.Line2D at 0x7fa8555a3850>]"
      ]
     },
     "execution_count": 233,
     "metadata": {},
     "output_type": "execute_result"
    },
    {
     "data": {
      "image/png": "[encoded data removed]",
      "text/plain": [
       "<Figure size 640x480 with 2 Axes>"
      ]
     },
     "metadata": {},
     "output_type": "display_data"
    },
    {
     "data": {
      "image/png": "[encoded data removed]",
      "text/plain": [
       "<Figure size 640x480 with 1 Axes>"
      ]
     },
     "metadata": {},
     "output_type": "display_data"
    },
    {
     "data": {
      "image/png": "[encoded data removed]",
      "text/plain": [
       "<Figure size 640x480 with 1 Axes>"
      ]
     },
     "metadata": {},
     "output_type": "display_data"
    },
    {
     "data": {
      "image/png": "[encoded data removed]",
      "text/plain": [
       "<Figure size 640x480 with 1 Axes>"
      ]
     },
     "metadata": {},
     "output_type": "display_data"
    }
   ],
   "source": [
    "x_cur = np.array([0., 0., 2., 0., 0.])  # Initial state.\n",
    "\n",
    "# Load ILQR\n",
    "centerline = load_path('outerloop_center_smooth.csv')\n",
    "path = Path(centerline, 0.6, 0.6, loop=True)\n",
    "\n",
    "config_file = '/hdd/Git_Repo/PrincetonRaceCar/ROS_Core/src/Planning/ilqr_planning_ros/configs/ilqr.yaml'\n",
    "solver = iLQR() #(config_file)\n",
    "solver.update_path(path)\n",
    "\n",
    "obs1 = np.array([[-1, -1, -0.5, -0.5], [5.3, 5.8, 5.8, 5.3]]).T\n",
    "obs2 = np.array([[1, 1.25, 1.5, 1.5, 1.25, 1], [5.8, 5.4, 5.8 , 6.0, 6.2, 6.0]]).T\n",
    "obs3 = np.array([[2.5, 2.5, 2, 2], [-0, 0.5, 0.5, -0]]).T\n",
    "# obs4 = np.array([[-200, -200, -1.5, -1.5], [0.5, 1, 1, 0.5]]).T\n",
    "obs_list = [[obs1 for _ in range(10)], \n",
    "            [obs2 for _ in range(10)],\n",
    "            [obs3 for _ in range(10)]]\n",
    "            # [obs4 for _ in range(10)]]\n",
    "solver.update_obstacles(obs_list)\n",
    "\n",
    "# define some parameters\n",
    "n = 10\n",
    "itr_receding = 100\n",
    "init_control = np.zeros((2, n))\n",
    "fig_prog_folder = 'fig/'\n",
    "\n",
    "state_history = np.zeros((5,itr_receding))\n",
    "t_process = np.zeros(itr_receding)\n",
    "for i in (pbar := tqdm.tqdm(range(itr_receding))):\n",
    "    \n",
    "    plan = solver.plan(x_cur, init_control)\n",
    "    states = plan['states']\n",
    "    controls = plan['controls']\n",
    "    x_cur = states[:,1]\n",
    "    state_history[:,i]  = x_cur\n",
    "    init_control[:,:-1] = controls[:,1:]\n",
    "    pbar.set_description(f\"iLQR takes : {plan['t_process']:.2f} sec']\")\n",
    "    t_process[i] = plan['t_process']\n",
    "    # plot\n",
    "    plt.clf()\n",
    "    path.plot_track()\n",
    "    p = Polygon(obs1, facecolor = 'k')\n",
    "    plt.gca().add_patch(p)\n",
    "\n",
    "    p = Polygon(obs2, facecolor = 'k')\n",
    "    plt.gca().add_patch(p)\n",
    "\n",
    "    p = Polygon(obs3, facecolor = 'k')\n",
    "    plt.gca().add_patch(p)\n",
    "\n",
    "    # p = Polygon(obs4, facecolor = 'k')\n",
    "    # plt.gca().add_patch(p)\n",
    "    \n",
    "    sc = plt.scatter(\n",
    "        state_history[0, :i], state_history[1, :i], s=24,\n",
    "        c=state_history[2, :i], cmap=cm.jet, vmin=0, vmax=5,\n",
    "        edgecolor='none', marker='o'\n",
    "    )\n",
    "    cbar = plt.colorbar(sc)\n",
    "    cbar.set_label(r\"velocity [$m/s$]\", size=20)\n",
    "    \n",
    "    plt.plot(states[0, :], states[1, :], 'r', linewidth=2)\n",
    "    plt.axis('equal')\n",
    "    plt.savefig(os.path.join(fig_prog_folder, str(i)+\".png\"), dpi=200)\n",
    "plt.close('All')\n",
    "\n",
    "gif_path = os.path.join(fig_prog_folder, 'rollout.gif')\n",
    "with imageio.get_writer(gif_path, mode='I') as writer:\n",
    "    for i in range(itr_receding):\n",
    "        filename = os.path.join(fig_prog_folder, str(i)+\".png\")\n",
    "        image = imageio.imread(filename)\n",
    "        writer.append_data(image)\n",
    "\n",
    "plt.figure()\n",
    "plt.plot(state_history[2,:])\n",
    "plt.title('Velocity')\n",
    "\n",
    "\n",
    "plt.figure()\n",
    "a = state_history[2, :]**2 / 0.257 * np.tan(state_history[-1, :])\n",
    "plt.plot(a)\n",
    "\n",
    "plt.figure()\n",
    "plt.plot(t_process)\n",
    "\n"
   ]
  },
  {
   "cell_type": "code",
   "execution_count": 239,
   "metadata": {},
   "outputs": [
    {
     "data": {
      "text/plain": [
       "array([[ 0.18205,  0.08169, -0.06537,  0.62298, -0.13832, -0.41943,\n",
       "        -0.20046, -2.09502,  0.47571, -0.55352, -1.47339,  0.49994,\n",
       "        -1.567  ,  0.     ,  0.     ,  0.     ,  0.     ,  0.     ,\n",
       "         0.     ,  0.     ],\n",
       "       [ 0.41985, -0.83481, -0.40587, -0.25362,  1.46399, -0.87573,\n",
       "        -0.61816, -1.27355, -0.65654,  0.27763, -0.53371, -0.45923,\n",
       "        -1.67221,  0.     ,  0.     ,  0.     ,  0.     ,  0.     ,\n",
       "         0.     ,  0.     ]])"
      ]
     },
     "execution_count": 239,
     "metadata": {},
     "output_type": "execute_result"
    }
   ],
   "source": [
    "a = np.random.randn(2,20)\n",
    "b = np.zeros_like(a)\n",
    "\n",
    "i=7\n",
    "b[:,:(20-i)] = a[:,i:]\n",
    "b"
   ]
  }
 ],
 "metadata": {
  "kernelspec": {
   "display_name": "jax",
   "language": "python",
   "name": "python3"
  },
  "language_info": {
   "codemirror_mode": {
    "name": "ipython",
    "version": 3
   },
   "file_extension": ".py",
   "mimetype": "text/x-python",
   "name": "python",
   "nbconvert_exporter": "python",
   "pygments_lexer": "ipython3",
   "version": "3.9.15"
  },
  "orig_nbformat": 4,
  "vscode": {
   "interpreter": {
    "hash": "a6a740e8787365aacd347d79eeb194f3bc2ca4f44137facfd999f6c1b481589d"
   }
  }
 },
 "nbformat": 4,
 "nbformat_minor": 2
}
